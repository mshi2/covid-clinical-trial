{
 "cells": [
  {
   "cell_type": "code",
   "execution_count": 62,
   "metadata": {},
   "outputs": [
    {
     "data": {
      "text/html": [
       "<div>\n",
       "<style scoped>\n",
       "    .dataframe tbody tr th:only-of-type {\n",
       "        vertical-align: middle;\n",
       "    }\n",
       "\n",
       "    .dataframe tbody tr th {\n",
       "        vertical-align: top;\n",
       "    }\n",
       "\n",
       "    .dataframe thead th {\n",
       "        text-align: right;\n",
       "    }\n",
       "</style>\n",
       "<table border=\"1\" class=\"dataframe\">\n",
       "  <thead>\n",
       "    <tr style=\"text-align: right;\">\n",
       "      <th></th>\n",
       "      <th>Rank</th>\n",
       "      <th>NCT Number</th>\n",
       "      <th>Title</th>\n",
       "      <th>Acronym</th>\n",
       "      <th>Status</th>\n",
       "      <th>Study Results</th>\n",
       "      <th>Conditions</th>\n",
       "      <th>Interventions</th>\n",
       "      <th>Outcome Measures</th>\n",
       "      <th>Sponsor/Collaborators</th>\n",
       "      <th>...</th>\n",
       "      <th>Other IDs</th>\n",
       "      <th>Start Date</th>\n",
       "      <th>Primary Completion Date</th>\n",
       "      <th>Completion Date</th>\n",
       "      <th>First Posted</th>\n",
       "      <th>Results First Posted</th>\n",
       "      <th>Last Update Posted</th>\n",
       "      <th>Locations</th>\n",
       "      <th>Study Documents</th>\n",
       "      <th>URL</th>\n",
       "    </tr>\n",
       "  </thead>\n",
       "  <tbody>\n",
       "    <tr>\n",
       "      <th>0</th>\n",
       "      <td>1</td>\n",
       "      <td>NCT04425538</td>\n",
       "      <td>A Phase 2 Trial of Infliximab in Coronavirus D...</td>\n",
       "      <td>NaN</td>\n",
       "      <td>Completed</td>\n",
       "      <td>No Results Available</td>\n",
       "      <td>COVID-19</td>\n",
       "      <td>Drug: Infliximab</td>\n",
       "      <td>Time to improvement in oxygenation|28-day mort...</td>\n",
       "      <td>Tufts Medical Center|National Institutes of He...</td>\n",
       "      <td>...</td>\n",
       "      <td>STUDY00000564</td>\n",
       "      <td>June 1, 2020</td>\n",
       "      <td>January 22, 2021</td>\n",
       "      <td>January 22, 2021</td>\n",
       "      <td>June 11, 2020</td>\n",
       "      <td>NaN</td>\n",
       "      <td>February 18, 2021</td>\n",
       "      <td>Tufts Medical Center, Boston, Massachusetts, U...</td>\n",
       "      <td>NaN</td>\n",
       "      <td>https://ClinicalTrials.gov/show/NCT04425538</td>\n",
       "    </tr>\n",
       "    <tr>\n",
       "      <th>1</th>\n",
       "      <td>2</td>\n",
       "      <td>NCT04452435</td>\n",
       "      <td>Safety and Efficacy of C21 in Subjects With CO...</td>\n",
       "      <td>NaN</td>\n",
       "      <td>Completed</td>\n",
       "      <td>Has Results</td>\n",
       "      <td>COVID-19</td>\n",
       "      <td>Drug: C21|Drug: Placebo</td>\n",
       "      <td>Change From Baseline in C-reactive Protein (CR...</td>\n",
       "      <td>Vicore Pharma AB|Orphan Reach</td>\n",
       "      <td>...</td>\n",
       "      <td>VP-C21-006|2020-001502-38</td>\n",
       "      <td>July 21, 2020</td>\n",
       "      <td>October 13, 2020</td>\n",
       "      <td>October 13, 2020</td>\n",
       "      <td>June 30, 2020</td>\n",
       "      <td>April 30, 2021</td>\n",
       "      <td>April 30, 2021</td>\n",
       "      <td>Department of Medicine, Civil Hospital and B J...</td>\n",
       "      <td>\"Study Protocol and Statistical Analysis Plan\"...</td>\n",
       "      <td>https://ClinicalTrials.gov/show/NCT04452435</td>\n",
       "    </tr>\n",
       "    <tr>\n",
       "      <th>2</th>\n",
       "      <td>3</td>\n",
       "      <td>NCT04445272</td>\n",
       "      <td>Clinical Trial to Evaluate the Effectiveness a...</td>\n",
       "      <td>NaN</td>\n",
       "      <td>Completed</td>\n",
       "      <td>No Results Available</td>\n",
       "      <td>COVID-19</td>\n",
       "      <td>Drug: Tocilizumab</td>\n",
       "      <td>To calulate the time of intubation|To calculat...</td>\n",
       "      <td>Fundacion SEIMC-GESIDA|Roche Pharma AG|Dynamic...</td>\n",
       "      <td>...</td>\n",
       "      <td>BREATH-19 (FSG011-20)</td>\n",
       "      <td>May 22, 2020</td>\n",
       "      <td>December 23, 2020</td>\n",
       "      <td>December 23, 2020</td>\n",
       "      <td>June 24, 2020</td>\n",
       "      <td>NaN</td>\n",
       "      <td>February 3, 2021</td>\n",
       "      <td>Hospital Universitario de Cabueñes, Gijón, Ast...</td>\n",
       "      <td>NaN</td>\n",
       "      <td>https://ClinicalTrials.gov/show/NCT04445272</td>\n",
       "    </tr>\n",
       "    <tr>\n",
       "      <th>3</th>\n",
       "      <td>4</td>\n",
       "      <td>NCT04355741</td>\n",
       "      <td>Gut Microbiota, \"Spark and Flame\" of COVID-19 ...</td>\n",
       "      <td>NaN</td>\n",
       "      <td>Completed</td>\n",
       "      <td>No Results Available</td>\n",
       "      <td>COVID-19</td>\n",
       "      <td>Other: Exposure</td>\n",
       "      <td>Differences in gut microbiota composition betw...</td>\n",
       "      <td>Universidade Nova de Lisboa|NOVA Medical Schoo...</td>\n",
       "      <td>...</td>\n",
       "      <td>COVID19_Microbiota</td>\n",
       "      <td>April 20, 2020</td>\n",
       "      <td>July 1, 2020</td>\n",
       "      <td>July 16, 2020</td>\n",
       "      <td>April 21, 2020</td>\n",
       "      <td>NaN</td>\n",
       "      <td>August 25, 2020</td>\n",
       "      <td>Hospital CUF Infante Santo, S.A., Lisbon, Port...</td>\n",
       "      <td>NaN</td>\n",
       "      <td>https://ClinicalTrials.gov/show/NCT04355741</td>\n",
       "    </tr>\n",
       "    <tr>\n",
       "      <th>4</th>\n",
       "      <td>5</td>\n",
       "      <td>NCT04578158</td>\n",
       "      <td>Trial to Study the Adjuvant Benefits of Querce...</td>\n",
       "      <td>NaN</td>\n",
       "      <td>Completed</td>\n",
       "      <td>No Results Available</td>\n",
       "      <td>COVID-19</td>\n",
       "      <td>Drug: Standard COVID-19 care|Dietary Supplemen...</td>\n",
       "      <td>Percentage of subjects with COVID-19 disease p...</td>\n",
       "      <td>Liaquat University of Medical &amp; Health Sciences</td>\n",
       "      <td>...</td>\n",
       "      <td>LUMHS/REC/894</td>\n",
       "      <td>September 29, 2020</td>\n",
       "      <td>March 28, 2021</td>\n",
       "      <td>April 15, 2021</td>\n",
       "      <td>October 8, 2020</td>\n",
       "      <td>NaN</td>\n",
       "      <td>April 22, 2021</td>\n",
       "      <td>Liaquat University Hospital, Jāmshoro, Sindh, ...</td>\n",
       "      <td>NaN</td>\n",
       "      <td>https://ClinicalTrials.gov/show/NCT04578158</td>\n",
       "    </tr>\n",
       "  </tbody>\n",
       "</table>\n",
       "<p>5 rows × 27 columns</p>\n",
       "</div>"
      ],
      "text/plain": [
       "   Rank   NCT Number                                              Title  \\\n",
       "0     1  NCT04425538  A Phase 2 Trial of Infliximab in Coronavirus D...   \n",
       "1     2  NCT04452435  Safety and Efficacy of C21 in Subjects With CO...   \n",
       "2     3  NCT04445272  Clinical Trial to Evaluate the Effectiveness a...   \n",
       "3     4  NCT04355741  Gut Microbiota, \"Spark and Flame\" of COVID-19 ...   \n",
       "4     5  NCT04578158  Trial to Study the Adjuvant Benefits of Querce...   \n",
       "\n",
       "  Acronym     Status         Study Results Conditions  \\\n",
       "0     NaN  Completed  No Results Available   COVID-19   \n",
       "1     NaN  Completed           Has Results   COVID-19   \n",
       "2     NaN  Completed  No Results Available   COVID-19   \n",
       "3     NaN  Completed  No Results Available   COVID-19   \n",
       "4     NaN  Completed  No Results Available   COVID-19   \n",
       "\n",
       "                                       Interventions  \\\n",
       "0                                   Drug: Infliximab   \n",
       "1                            Drug: C21|Drug: Placebo   \n",
       "2                                  Drug: Tocilizumab   \n",
       "3                                    Other: Exposure   \n",
       "4  Drug: Standard COVID-19 care|Dietary Supplemen...   \n",
       "\n",
       "                                    Outcome Measures  \\\n",
       "0  Time to improvement in oxygenation|28-day mort...   \n",
       "1  Change From Baseline in C-reactive Protein (CR...   \n",
       "2  To calulate the time of intubation|To calculat...   \n",
       "3  Differences in gut microbiota composition betw...   \n",
       "4  Percentage of subjects with COVID-19 disease p...   \n",
       "\n",
       "                               Sponsor/Collaborators  ...  \\\n",
       "0  Tufts Medical Center|National Institutes of He...  ...   \n",
       "1                      Vicore Pharma AB|Orphan Reach  ...   \n",
       "2  Fundacion SEIMC-GESIDA|Roche Pharma AG|Dynamic...  ...   \n",
       "3  Universidade Nova de Lisboa|NOVA Medical Schoo...  ...   \n",
       "4    Liaquat University of Medical & Health Sciences  ...   \n",
       "\n",
       "                   Other IDs          Start Date Primary Completion Date  \\\n",
       "0              STUDY00000564        June 1, 2020        January 22, 2021   \n",
       "1  VP-C21-006|2020-001502-38       July 21, 2020        October 13, 2020   \n",
       "2      BREATH-19 (FSG011-20)        May 22, 2020       December 23, 2020   \n",
       "3         COVID19_Microbiota      April 20, 2020            July 1, 2020   \n",
       "4              LUMHS/REC/894  September 29, 2020          March 28, 2021   \n",
       "\n",
       "     Completion Date     First Posted Results First Posted Last Update Posted  \\\n",
       "0   January 22, 2021    June 11, 2020                  NaN  February 18, 2021   \n",
       "1   October 13, 2020    June 30, 2020       April 30, 2021     April 30, 2021   \n",
       "2  December 23, 2020    June 24, 2020                  NaN   February 3, 2021   \n",
       "3      July 16, 2020   April 21, 2020                  NaN    August 25, 2020   \n",
       "4     April 15, 2021  October 8, 2020                  NaN     April 22, 2021   \n",
       "\n",
       "                                           Locations  \\\n",
       "0  Tufts Medical Center, Boston, Massachusetts, U...   \n",
       "1  Department of Medicine, Civil Hospital and B J...   \n",
       "2  Hospital Universitario de Cabueñes, Gijón, Ast...   \n",
       "3  Hospital CUF Infante Santo, S.A., Lisbon, Port...   \n",
       "4  Liaquat University Hospital, Jāmshoro, Sindh, ...   \n",
       "\n",
       "                                     Study Documents  \\\n",
       "0                                                NaN   \n",
       "1  \"Study Protocol and Statistical Analysis Plan\"...   \n",
       "2                                                NaN   \n",
       "3                                                NaN   \n",
       "4                                                NaN   \n",
       "\n",
       "                                           URL  \n",
       "0  https://ClinicalTrials.gov/show/NCT04425538  \n",
       "1  https://ClinicalTrials.gov/show/NCT04452435  \n",
       "2  https://ClinicalTrials.gov/show/NCT04445272  \n",
       "3  https://ClinicalTrials.gov/show/NCT04355741  \n",
       "4  https://ClinicalTrials.gov/show/NCT04578158  \n",
       "\n",
       "[5 rows x 27 columns]"
      ]
     },
     "execution_count": 62,
     "metadata": {},
     "output_type": "execute_result"
    }
   ],
   "source": [
    "import matplotlib.pyplot as plt\n",
    "import pandas as pd\n",
    "import numpy as np\n",
    "# File to Load (Remember to Change These)\n",
    "covid = \"covid-clinical-trial_data.csv\"\n",
    "\n",
    "# create dataframefor covid data\n",
    "covid_df = pd.read_csv(covid)\n",
    "covid_df.head()"
   ]
  },
  {
   "cell_type": "code",
   "execution_count": 63,
   "metadata": {
    "scrolled": true
   },
   "outputs": [
    {
     "data": {
      "text/html": [
       "<div>\n",
       "<style scoped>\n",
       "    .dataframe tbody tr th:only-of-type {\n",
       "        vertical-align: middle;\n",
       "    }\n",
       "\n",
       "    .dataframe tbody tr th {\n",
       "        vertical-align: top;\n",
       "    }\n",
       "\n",
       "    .dataframe thead th {\n",
       "        text-align: right;\n",
       "    }\n",
       "</style>\n",
       "<table border=\"1\" class=\"dataframe\">\n",
       "  <thead>\n",
       "    <tr style=\"text-align: right;\">\n",
       "      <th></th>\n",
       "      <th>Rank</th>\n",
       "      <th>NCT Number</th>\n",
       "      <th>Title</th>\n",
       "      <th>Status</th>\n",
       "      <th>Study Results</th>\n",
       "      <th>Conditions</th>\n",
       "      <th>Interventions</th>\n",
       "      <th>Outcome Measures</th>\n",
       "      <th>Gender</th>\n",
       "      <th>Age</th>\n",
       "      <th>Phases</th>\n",
       "      <th>Enrollment</th>\n",
       "      <th>Funded Bys</th>\n",
       "      <th>Study Type</th>\n",
       "      <th>Start Date</th>\n",
       "      <th>Completion Date</th>\n",
       "      <th>First Posted</th>\n",
       "      <th>Locations</th>\n",
       "    </tr>\n",
       "  </thead>\n",
       "  <tbody>\n",
       "    <tr>\n",
       "      <th>0</th>\n",
       "      <td>1</td>\n",
       "      <td>NCT04425538</td>\n",
       "      <td>A Phase 2 Trial of Infliximab in Coronavirus D...</td>\n",
       "      <td>Completed</td>\n",
       "      <td>No Results Available</td>\n",
       "      <td>COVID-19</td>\n",
       "      <td>Drug: Infliximab</td>\n",
       "      <td>Time to improvement in oxygenation|28-day mort...</td>\n",
       "      <td>All</td>\n",
       "      <td>18 Years and older   (Adult, Older Adult)</td>\n",
       "      <td>Phase 2</td>\n",
       "      <td>17</td>\n",
       "      <td>Other|NIH</td>\n",
       "      <td>Interventional</td>\n",
       "      <td>June 1, 2020</td>\n",
       "      <td>January 22, 2021</td>\n",
       "      <td>June 11, 2020</td>\n",
       "      <td>Tufts Medical Center, Boston, Massachusetts, U...</td>\n",
       "    </tr>\n",
       "    <tr>\n",
       "      <th>1</th>\n",
       "      <td>2</td>\n",
       "      <td>NCT04452435</td>\n",
       "      <td>Safety and Efficacy of C21 in Subjects With CO...</td>\n",
       "      <td>Completed</td>\n",
       "      <td>Has Results</td>\n",
       "      <td>COVID-19</td>\n",
       "      <td>Drug: C21|Drug: Placebo</td>\n",
       "      <td>Change From Baseline in C-reactive Protein (CR...</td>\n",
       "      <td>All</td>\n",
       "      <td>18 Years to 70 Years   (Adult, Older Adult)</td>\n",
       "      <td>Phase 2</td>\n",
       "      <td>206</td>\n",
       "      <td>Industry|Other</td>\n",
       "      <td>Interventional</td>\n",
       "      <td>July 21, 2020</td>\n",
       "      <td>October 13, 2020</td>\n",
       "      <td>June 30, 2020</td>\n",
       "      <td>Department of Medicine, Civil Hospital and B J...</td>\n",
       "    </tr>\n",
       "    <tr>\n",
       "      <th>2</th>\n",
       "      <td>3</td>\n",
       "      <td>NCT04445272</td>\n",
       "      <td>Clinical Trial to Evaluate the Effectiveness a...</td>\n",
       "      <td>Completed</td>\n",
       "      <td>No Results Available</td>\n",
       "      <td>COVID-19</td>\n",
       "      <td>Drug: Tocilizumab</td>\n",
       "      <td>To calulate the time of intubation|To calculat...</td>\n",
       "      <td>All</td>\n",
       "      <td>18 Years and older   (Adult, Older Adult)</td>\n",
       "      <td>Phase 2</td>\n",
       "      <td>495</td>\n",
       "      <td>Other|Industry</td>\n",
       "      <td>Interventional</td>\n",
       "      <td>May 22, 2020</td>\n",
       "      <td>December 23, 2020</td>\n",
       "      <td>June 24, 2020</td>\n",
       "      <td>Hospital Universitario de Cabueñes, Gijón, Ast...</td>\n",
       "    </tr>\n",
       "    <tr>\n",
       "      <th>3</th>\n",
       "      <td>4</td>\n",
       "      <td>NCT04355741</td>\n",
       "      <td>Gut Microbiota, \"Spark and Flame\" of COVID-19 ...</td>\n",
       "      <td>Completed</td>\n",
       "      <td>No Results Available</td>\n",
       "      <td>COVID-19</td>\n",
       "      <td>Other: Exposure</td>\n",
       "      <td>Differences in gut microbiota composition betw...</td>\n",
       "      <td>All</td>\n",
       "      <td>18 Years and older   (Adult, Older Adult)</td>\n",
       "      <td>NaN</td>\n",
       "      <td>115</td>\n",
       "      <td>Other</td>\n",
       "      <td>Observational</td>\n",
       "      <td>April 20, 2020</td>\n",
       "      <td>July 16, 2020</td>\n",
       "      <td>April 21, 2020</td>\n",
       "      <td>Hospital CUF Infante Santo, S.A., Lisbon, Port...</td>\n",
       "    </tr>\n",
       "    <tr>\n",
       "      <th>4</th>\n",
       "      <td>5</td>\n",
       "      <td>NCT04578158</td>\n",
       "      <td>Trial to Study the Adjuvant Benefits of Querce...</td>\n",
       "      <td>Completed</td>\n",
       "      <td>No Results Available</td>\n",
       "      <td>COVID-19</td>\n",
       "      <td>Drug: Standard COVID-19 care|Dietary Supplemen...</td>\n",
       "      <td>Percentage of subjects with COVID-19 disease p...</td>\n",
       "      <td>All</td>\n",
       "      <td>18 Years and older   (Adult, Older Adult)</td>\n",
       "      <td>Phase 3</td>\n",
       "      <td>152</td>\n",
       "      <td>Other</td>\n",
       "      <td>Interventional</td>\n",
       "      <td>September 29, 2020</td>\n",
       "      <td>April 15, 2021</td>\n",
       "      <td>October 8, 2020</td>\n",
       "      <td>Liaquat University Hospital, Jāmshoro, Sindh, ...</td>\n",
       "    </tr>\n",
       "  </tbody>\n",
       "</table>\n",
       "</div>"
      ],
      "text/plain": [
       "   Rank   NCT Number                                              Title  \\\n",
       "0     1  NCT04425538  A Phase 2 Trial of Infliximab in Coronavirus D...   \n",
       "1     2  NCT04452435  Safety and Efficacy of C21 in Subjects With CO...   \n",
       "2     3  NCT04445272  Clinical Trial to Evaluate the Effectiveness a...   \n",
       "3     4  NCT04355741  Gut Microbiota, \"Spark and Flame\" of COVID-19 ...   \n",
       "4     5  NCT04578158  Trial to Study the Adjuvant Benefits of Querce...   \n",
       "\n",
       "      Status         Study Results Conditions  \\\n",
       "0  Completed  No Results Available   COVID-19   \n",
       "1  Completed           Has Results   COVID-19   \n",
       "2  Completed  No Results Available   COVID-19   \n",
       "3  Completed  No Results Available   COVID-19   \n",
       "4  Completed  No Results Available   COVID-19   \n",
       "\n",
       "                                       Interventions  \\\n",
       "0                                   Drug: Infliximab   \n",
       "1                            Drug: C21|Drug: Placebo   \n",
       "2                                  Drug: Tocilizumab   \n",
       "3                                    Other: Exposure   \n",
       "4  Drug: Standard COVID-19 care|Dietary Supplemen...   \n",
       "\n",
       "                                    Outcome Measures Gender  \\\n",
       "0  Time to improvement in oxygenation|28-day mort...    All   \n",
       "1  Change From Baseline in C-reactive Protein (CR...    All   \n",
       "2  To calulate the time of intubation|To calculat...    All   \n",
       "3  Differences in gut microbiota composition betw...    All   \n",
       "4  Percentage of subjects with COVID-19 disease p...    All   \n",
       "\n",
       "                                           Age   Phases  Enrollment  \\\n",
       "0    18 Years and older   (Adult, Older Adult)  Phase 2          17   \n",
       "1  18 Years to 70 Years   (Adult, Older Adult)  Phase 2         206   \n",
       "2    18 Years and older   (Adult, Older Adult)  Phase 2         495   \n",
       "3    18 Years and older   (Adult, Older Adult)      NaN         115   \n",
       "4    18 Years and older   (Adult, Older Adult)  Phase 3         152   \n",
       "\n",
       "       Funded Bys      Study Type          Start Date    Completion Date  \\\n",
       "0       Other|NIH  Interventional        June 1, 2020   January 22, 2021   \n",
       "1  Industry|Other  Interventional       July 21, 2020   October 13, 2020   \n",
       "2  Other|Industry  Interventional        May 22, 2020  December 23, 2020   \n",
       "3           Other   Observational      April 20, 2020      July 16, 2020   \n",
       "4           Other  Interventional  September 29, 2020     April 15, 2021   \n",
       "\n",
       "      First Posted                                          Locations  \n",
       "0    June 11, 2020  Tufts Medical Center, Boston, Massachusetts, U...  \n",
       "1    June 30, 2020  Department of Medicine, Civil Hospital and B J...  \n",
       "2    June 24, 2020  Hospital Universitario de Cabueñes, Gijón, Ast...  \n",
       "3   April 21, 2020  Hospital CUF Infante Santo, S.A., Lisbon, Port...  \n",
       "4  October 8, 2020  Liaquat University Hospital, Jāmshoro, Sindh, ...  "
      ]
     },
     "execution_count": 63,
     "metadata": {},
     "output_type": "execute_result"
    }
   ],
   "source": [
    "#columns to delete\n",
    "remove_columns = covid_df.drop(columns=['Acronym', 'Sponsor/Collaborators', 'Study Designs', 'Other IDs', 'Primary Completion Date', 'Results First Posted', 'Last Update Posted', 'Study Documents', 'URL'])\n",
    "remove_columns.head()"
   ]
  },
  {
   "cell_type": "code",
   "execution_count": 64,
   "metadata": {},
   "outputs": [
    {
     "data": {
      "text/html": [
       "<div>\n",
       "<style scoped>\n",
       "    .dataframe tbody tr th:only-of-type {\n",
       "        vertical-align: middle;\n",
       "    }\n",
       "\n",
       "    .dataframe tbody tr th {\n",
       "        vertical-align: top;\n",
       "    }\n",
       "\n",
       "    .dataframe thead th {\n",
       "        text-align: right;\n",
       "    }\n",
       "</style>\n",
       "<table border=\"1\" class=\"dataframe\">\n",
       "  <thead>\n",
       "    <tr style=\"text-align: right;\">\n",
       "      <th></th>\n",
       "      <th>Rank</th>\n",
       "      <th>NCT Number</th>\n",
       "      <th>Title</th>\n",
       "      <th>Status</th>\n",
       "      <th>Study Results</th>\n",
       "      <th>Conditions</th>\n",
       "      <th>Interventions</th>\n",
       "      <th>Outcome Measures</th>\n",
       "      <th>Gender</th>\n",
       "      <th>Age</th>\n",
       "      <th>Phases</th>\n",
       "      <th>Enrollment</th>\n",
       "      <th>Funded Bys</th>\n",
       "      <th>Study Type</th>\n",
       "      <th>Start Date</th>\n",
       "      <th>Completion Date</th>\n",
       "      <th>First Posted</th>\n",
       "      <th>Locations</th>\n",
       "    </tr>\n",
       "  </thead>\n",
       "  <tbody>\n",
       "    <tr>\n",
       "      <th>0</th>\n",
       "      <td>1</td>\n",
       "      <td>NCT04425538</td>\n",
       "      <td>A Phase 2 Trial of Infliximab in Coronavirus D...</td>\n",
       "      <td>Completed</td>\n",
       "      <td>No Results Available</td>\n",
       "      <td>COVID-19</td>\n",
       "      <td>Drug: Infliximab</td>\n",
       "      <td>Time to improvement in oxygenation|28-day mort...</td>\n",
       "      <td>All</td>\n",
       "      <td>18 Years and older   (Adult, Older Adult)</td>\n",
       "      <td>Phase 2</td>\n",
       "      <td>17</td>\n",
       "      <td>Other|NIH</td>\n",
       "      <td>Interventional</td>\n",
       "      <td>June 1, 2020</td>\n",
       "      <td>January 22, 2021</td>\n",
       "      <td>June 11, 2020</td>\n",
       "      <td>United States</td>\n",
       "    </tr>\n",
       "    <tr>\n",
       "      <th>1</th>\n",
       "      <td>2</td>\n",
       "      <td>NCT04452435</td>\n",
       "      <td>Safety and Efficacy of C21 in Subjects With CO...</td>\n",
       "      <td>Completed</td>\n",
       "      <td>Has Results</td>\n",
       "      <td>COVID-19</td>\n",
       "      <td>Drug: C21|Drug: Placebo</td>\n",
       "      <td>Change From Baseline in C-reactive Protein (CR...</td>\n",
       "      <td>All</td>\n",
       "      <td>18 Years to 70 Years   (Adult, Older Adult)</td>\n",
       "      <td>Phase 2</td>\n",
       "      <td>206</td>\n",
       "      <td>Industry|Other</td>\n",
       "      <td>Interventional</td>\n",
       "      <td>July 21, 2020</td>\n",
       "      <td>October 13, 2020</td>\n",
       "      <td>June 30, 2020</td>\n",
       "      <td>United Kingdom</td>\n",
       "    </tr>\n",
       "    <tr>\n",
       "      <th>2</th>\n",
       "      <td>3</td>\n",
       "      <td>NCT04445272</td>\n",
       "      <td>Clinical Trial to Evaluate the Effectiveness a...</td>\n",
       "      <td>Completed</td>\n",
       "      <td>No Results Available</td>\n",
       "      <td>COVID-19</td>\n",
       "      <td>Drug: Tocilizumab</td>\n",
       "      <td>To calulate the time of intubation|To calculat...</td>\n",
       "      <td>All</td>\n",
       "      <td>18 Years and older   (Adult, Older Adult)</td>\n",
       "      <td>Phase 2</td>\n",
       "      <td>495</td>\n",
       "      <td>Other|Industry</td>\n",
       "      <td>Interventional</td>\n",
       "      <td>May 22, 2020</td>\n",
       "      <td>December 23, 2020</td>\n",
       "      <td>June 24, 2020</td>\n",
       "      <td>Spain</td>\n",
       "    </tr>\n",
       "    <tr>\n",
       "      <th>3</th>\n",
       "      <td>4</td>\n",
       "      <td>NCT04355741</td>\n",
       "      <td>Gut Microbiota, \"Spark and Flame\" of COVID-19 ...</td>\n",
       "      <td>Completed</td>\n",
       "      <td>No Results Available</td>\n",
       "      <td>COVID-19</td>\n",
       "      <td>Other: Exposure</td>\n",
       "      <td>Differences in gut microbiota composition betw...</td>\n",
       "      <td>All</td>\n",
       "      <td>18 Years and older   (Adult, Older Adult)</td>\n",
       "      <td>NaN</td>\n",
       "      <td>115</td>\n",
       "      <td>Other</td>\n",
       "      <td>Observational</td>\n",
       "      <td>April 20, 2020</td>\n",
       "      <td>July 16, 2020</td>\n",
       "      <td>April 21, 2020</td>\n",
       "      <td>Portugal</td>\n",
       "    </tr>\n",
       "    <tr>\n",
       "      <th>4</th>\n",
       "      <td>5</td>\n",
       "      <td>NCT04578158</td>\n",
       "      <td>Trial to Study the Adjuvant Benefits of Querce...</td>\n",
       "      <td>Completed</td>\n",
       "      <td>No Results Available</td>\n",
       "      <td>COVID-19</td>\n",
       "      <td>Drug: Standard COVID-19 care|Dietary Supplemen...</td>\n",
       "      <td>Percentage of subjects with COVID-19 disease p...</td>\n",
       "      <td>All</td>\n",
       "      <td>18 Years and older   (Adult, Older Adult)</td>\n",
       "      <td>Phase 3</td>\n",
       "      <td>152</td>\n",
       "      <td>Other</td>\n",
       "      <td>Interventional</td>\n",
       "      <td>September 29, 2020</td>\n",
       "      <td>April 15, 2021</td>\n",
       "      <td>October 8, 2020</td>\n",
       "      <td>Pakistan</td>\n",
       "    </tr>\n",
       "  </tbody>\n",
       "</table>\n",
       "</div>"
      ],
      "text/plain": [
       "   Rank   NCT Number                                              Title  \\\n",
       "0     1  NCT04425538  A Phase 2 Trial of Infliximab in Coronavirus D...   \n",
       "1     2  NCT04452435  Safety and Efficacy of C21 in Subjects With CO...   \n",
       "2     3  NCT04445272  Clinical Trial to Evaluate the Effectiveness a...   \n",
       "3     4  NCT04355741  Gut Microbiota, \"Spark and Flame\" of COVID-19 ...   \n",
       "4     5  NCT04578158  Trial to Study the Adjuvant Benefits of Querce...   \n",
       "\n",
       "      Status         Study Results Conditions  \\\n",
       "0  Completed  No Results Available   COVID-19   \n",
       "1  Completed           Has Results   COVID-19   \n",
       "2  Completed  No Results Available   COVID-19   \n",
       "3  Completed  No Results Available   COVID-19   \n",
       "4  Completed  No Results Available   COVID-19   \n",
       "\n",
       "                                       Interventions  \\\n",
       "0                                   Drug: Infliximab   \n",
       "1                            Drug: C21|Drug: Placebo   \n",
       "2                                  Drug: Tocilizumab   \n",
       "3                                    Other: Exposure   \n",
       "4  Drug: Standard COVID-19 care|Dietary Supplemen...   \n",
       "\n",
       "                                    Outcome Measures Gender  \\\n",
       "0  Time to improvement in oxygenation|28-day mort...    All   \n",
       "1  Change From Baseline in C-reactive Protein (CR...    All   \n",
       "2  To calulate the time of intubation|To calculat...    All   \n",
       "3  Differences in gut microbiota composition betw...    All   \n",
       "4  Percentage of subjects with COVID-19 disease p...    All   \n",
       "\n",
       "                                           Age   Phases  Enrollment  \\\n",
       "0    18 Years and older   (Adult, Older Adult)  Phase 2          17   \n",
       "1  18 Years to 70 Years   (Adult, Older Adult)  Phase 2         206   \n",
       "2    18 Years and older   (Adult, Older Adult)  Phase 2         495   \n",
       "3    18 Years and older   (Adult, Older Adult)      NaN         115   \n",
       "4    18 Years and older   (Adult, Older Adult)  Phase 3         152   \n",
       "\n",
       "       Funded Bys      Study Type          Start Date    Completion Date  \\\n",
       "0       Other|NIH  Interventional        June 1, 2020   January 22, 2021   \n",
       "1  Industry|Other  Interventional       July 21, 2020   October 13, 2020   \n",
       "2  Other|Industry  Interventional        May 22, 2020  December 23, 2020   \n",
       "3           Other   Observational      April 20, 2020      July 16, 2020   \n",
       "4           Other  Interventional  September 29, 2020     April 15, 2021   \n",
       "\n",
       "      First Posted        Locations  \n",
       "0    June 11, 2020    United States  \n",
       "1    June 30, 2020   United Kingdom  \n",
       "2    June 24, 2020            Spain  \n",
       "3   April 21, 2020         Portugal  \n",
       "4  October 8, 2020         Pakistan  "
      ]
     },
     "execution_count": 64,
     "metadata": {},
     "output_type": "execute_result"
    }
   ],
   "source": [
    "#update locations to countries\n",
    "remove_columns['Locations'] = remove_columns['Locations'].str.rsplit(',').str[-1]\n",
    "remove_columns.head()\n",
    "#remove_columns.to_csv('covid-clinical-trial_data_cleandata.csv', index=False)"
   ]
  },
  {
   "cell_type": "code",
   "execution_count": 65,
   "metadata": {},
   "outputs": [
    {
     "data": {
      "text/plain": [
       "array([' United States', ' United Kingdom', ' Spain', ' Portugal',\n",
       "       ' Pakistan', ' Italy', ' Islamic Republic of', ' Brazil',\n",
       "       ' Indonesia', ' Egypt', ' China', ' Turkey', ' Switzerland',\n",
       "       ' Belgium', ' Russian Federation', ' Singapore', ' Republic of',\n",
       "       ' France', ' Argentina', ' Honduras', ' Netherlands', ' India',\n",
       "       ' Denmark', ' Mexico', ' Hong Kong', ' Malaysia', ' Israel',\n",
       "       ' Paraguay', ' Colombia', ' Germany', ' United Arab Emirates',\n",
       "       ' Poland', ' Saudi Arabia', ' Bangladesh',\n",
       "       ' Bosnia and Herzegovina', ' Monaco', ' Jordan', ' Bahrain',\n",
       "       ' Vietnam', ' Tunisia', ' Costa Rica', ' Puerto Rico', ' Sweden',\n",
       "       ' Iraq', ' North Macedonia', ' Austria', nan, ' Qatar', ' Greece',\n",
       "       ' Canada', ' Kyrgyzstan', ' Ukraine', ' Martinique',\n",
       "       ' South Africa', ' Guinea', ' Bolivia', ' Iceland', ' Chile',\n",
       "       ' Czechia', ' Norway', ' Australia', ' Ecuador',\n",
       "       ' Dominican Republic', ' Peru', ' Slovenia', ' Kazakhstan',\n",
       "       ' Uganda', ' Thailand', ' Uruguay', ' Taiwan', ' Hungary',\n",
       "       ' Japan', ' Bulgaria', ' Kuwait', ' Burkina Faso', ' Cyprus'],\n",
       "      dtype=object)"
      ]
     },
     "execution_count": 65,
     "metadata": {},
     "output_type": "execute_result"
    }
   ],
   "source": [
    "#counts of countries #some locations not parsed properly...repuplic of= korea,  islamic republic=iran, nan=Kazakhstan\n",
    "remove_columns['Locations'].unique()"
   ]
  },
  {
   "cell_type": "code",
   "execution_count": 156,
   "metadata": {},
   "outputs": [
    {
     "name": "stdout",
     "output_type": "stream",
     "text": [
      "[' United States', ' United Kingdom', ' Spain', ' Portugal', ' Pakistan', ' Italy', ' Islamic Republic of', ' Brazil', ' Indonesia', ' Egypt', ' China', ' Turkey', ' Switzerland', ' Belgium', ' Russian Federation', ' Singapore', ' Republic of', ' France', ' Argentina', ' Honduras', ' Netherlands', ' India', ' Denmark', ' Mexico', ' Hong Kong', ' Malaysia', ' Israel', ' Paraguay', ' Colombia', ' Germany', ' United Arab Emirates', ' Poland', ' Saudi Arabia', ' Bangladesh', ' Bosnia and Herzegovina', ' Monaco', ' Jordan', ' Bahrain', ' Vietnam', ' Tunisia', ' Costa Rica', ' Puerto Rico', ' Sweden', ' Iraq', ' North Macedonia', ' Austria', nan, ' Qatar', ' Greece', ' Canada', ' Kyrgyzstan', ' Ukraine', ' Martinique', ' South Africa', ' Guinea', ' Bolivia', ' Iceland', ' Chile', ' Czechia', ' Norway', ' Australia', ' Ecuador', ' Dominican Republic', ' Peru', ' Slovenia', ' Kazakhstan', ' Uganda', ' Thailand', ' Uruguay', ' Taiwan', ' Hungary', ' Japan', ' Bulgaria', ' Kuwait', ' Burkina Faso', ' Cyprus']\n",
      "could not add ISO 3 code for -> nan\n"
     ]
    },
    {
     "data": {
      "text/html": [
       "<div>\n",
       "<style scoped>\n",
       "    .dataframe tbody tr th:only-of-type {\n",
       "        vertical-align: middle;\n",
       "    }\n",
       "\n",
       "    .dataframe tbody tr th {\n",
       "        vertical-align: top;\n",
       "    }\n",
       "\n",
       "    .dataframe thead th {\n",
       "        text-align: right;\n",
       "    }\n",
       "</style>\n",
       "<table border=\"1\" class=\"dataframe\">\n",
       "  <thead>\n",
       "    <tr style=\"text-align: right;\">\n",
       "      <th></th>\n",
       "      <th>Rank</th>\n",
       "      <th>NCT Number</th>\n",
       "      <th>Title</th>\n",
       "      <th>Status</th>\n",
       "      <th>Study Results</th>\n",
       "      <th>Conditions</th>\n",
       "      <th>Interventions</th>\n",
       "      <th>Outcome Measures</th>\n",
       "      <th>Gender</th>\n",
       "      <th>Age</th>\n",
       "      <th>Phases</th>\n",
       "      <th>Enrollment</th>\n",
       "      <th>Funded Bys</th>\n",
       "      <th>Study Type</th>\n",
       "      <th>Start Date</th>\n",
       "      <th>Completion Date</th>\n",
       "      <th>First Posted</th>\n",
       "      <th>Locations</th>\n",
       "      <th>CODE</th>\n",
       "      <th>iso_alpha</th>\n",
       "    </tr>\n",
       "  </thead>\n",
       "  <tbody>\n",
       "    <tr>\n",
       "      <th>0</th>\n",
       "      <td>1</td>\n",
       "      <td>NCT04425538</td>\n",
       "      <td>A Phase 2 Trial of Infliximab in Coronavirus D...</td>\n",
       "      <td>Completed</td>\n",
       "      <td>No Results Available</td>\n",
       "      <td>COVID-19</td>\n",
       "      <td>Drug: Infliximab</td>\n",
       "      <td>Time to improvement in oxygenation|28-day mort...</td>\n",
       "      <td>All</td>\n",
       "      <td>18 Years and older   (Adult, Older Adult)</td>\n",
       "      <td>Phase 2</td>\n",
       "      <td>17</td>\n",
       "      <td>Other|NIH</td>\n",
       "      <td>Interventional</td>\n",
       "      <td>June 1, 2020</td>\n",
       "      <td>January 22, 2021</td>\n",
       "      <td>June 11, 2020</td>\n",
       "      <td>United States</td>\n",
       "      <td>None</td>\n",
       "      <td>USA</td>\n",
       "    </tr>\n",
       "    <tr>\n",
       "      <th>1</th>\n",
       "      <td>2</td>\n",
       "      <td>NCT04452435</td>\n",
       "      <td>Safety and Efficacy of C21 in Subjects With CO...</td>\n",
       "      <td>Completed</td>\n",
       "      <td>Has Results</td>\n",
       "      <td>COVID-19</td>\n",
       "      <td>Drug: C21|Drug: Placebo</td>\n",
       "      <td>Change From Baseline in C-reactive Protein (CR...</td>\n",
       "      <td>All</td>\n",
       "      <td>18 Years to 70 Years   (Adult, Older Adult)</td>\n",
       "      <td>Phase 2</td>\n",
       "      <td>206</td>\n",
       "      <td>Industry|Other</td>\n",
       "      <td>Interventional</td>\n",
       "      <td>July 21, 2020</td>\n",
       "      <td>October 13, 2020</td>\n",
       "      <td>June 30, 2020</td>\n",
       "      <td>United Kingdom</td>\n",
       "      <td>None</td>\n",
       "      <td>GBR</td>\n",
       "    </tr>\n",
       "    <tr>\n",
       "      <th>2</th>\n",
       "      <td>3</td>\n",
       "      <td>NCT04445272</td>\n",
       "      <td>Clinical Trial to Evaluate the Effectiveness a...</td>\n",
       "      <td>Completed</td>\n",
       "      <td>No Results Available</td>\n",
       "      <td>COVID-19</td>\n",
       "      <td>Drug: Tocilizumab</td>\n",
       "      <td>To calulate the time of intubation|To calculat...</td>\n",
       "      <td>All</td>\n",
       "      <td>18 Years and older   (Adult, Older Adult)</td>\n",
       "      <td>Phase 2</td>\n",
       "      <td>495</td>\n",
       "      <td>Other|Industry</td>\n",
       "      <td>Interventional</td>\n",
       "      <td>May 22, 2020</td>\n",
       "      <td>December 23, 2020</td>\n",
       "      <td>June 24, 2020</td>\n",
       "      <td>Spain</td>\n",
       "      <td>None</td>\n",
       "      <td>ESP</td>\n",
       "    </tr>\n",
       "    <tr>\n",
       "      <th>3</th>\n",
       "      <td>4</td>\n",
       "      <td>NCT04355741</td>\n",
       "      <td>Gut Microbiota, \"Spark and Flame\" of COVID-19 ...</td>\n",
       "      <td>Completed</td>\n",
       "      <td>No Results Available</td>\n",
       "      <td>COVID-19</td>\n",
       "      <td>Other: Exposure</td>\n",
       "      <td>Differences in gut microbiota composition betw...</td>\n",
       "      <td>All</td>\n",
       "      <td>18 Years and older   (Adult, Older Adult)</td>\n",
       "      <td>NaN</td>\n",
       "      <td>115</td>\n",
       "      <td>Other</td>\n",
       "      <td>Observational</td>\n",
       "      <td>April 20, 2020</td>\n",
       "      <td>July 16, 2020</td>\n",
       "      <td>April 21, 2020</td>\n",
       "      <td>Portugal</td>\n",
       "      <td>None</td>\n",
       "      <td>PRT</td>\n",
       "    </tr>\n",
       "    <tr>\n",
       "      <th>4</th>\n",
       "      <td>5</td>\n",
       "      <td>NCT04578158</td>\n",
       "      <td>Trial to Study the Adjuvant Benefits of Querce...</td>\n",
       "      <td>Completed</td>\n",
       "      <td>No Results Available</td>\n",
       "      <td>COVID-19</td>\n",
       "      <td>Drug: Standard COVID-19 care|Dietary Supplemen...</td>\n",
       "      <td>Percentage of subjects with COVID-19 disease p...</td>\n",
       "      <td>All</td>\n",
       "      <td>18 Years and older   (Adult, Older Adult)</td>\n",
       "      <td>Phase 3</td>\n",
       "      <td>152</td>\n",
       "      <td>Other</td>\n",
       "      <td>Interventional</td>\n",
       "      <td>September 29, 2020</td>\n",
       "      <td>April 15, 2021</td>\n",
       "      <td>October 8, 2020</td>\n",
       "      <td>Pakistan</td>\n",
       "      <td>None</td>\n",
       "      <td>PAK</td>\n",
       "    </tr>\n",
       "  </tbody>\n",
       "</table>\n",
       "</div>"
      ],
      "text/plain": [
       "   Rank   NCT Number                                              Title  \\\n",
       "0     1  NCT04425538  A Phase 2 Trial of Infliximab in Coronavirus D...   \n",
       "1     2  NCT04452435  Safety and Efficacy of C21 in Subjects With CO...   \n",
       "2     3  NCT04445272  Clinical Trial to Evaluate the Effectiveness a...   \n",
       "3     4  NCT04355741  Gut Microbiota, \"Spark and Flame\" of COVID-19 ...   \n",
       "4     5  NCT04578158  Trial to Study the Adjuvant Benefits of Querce...   \n",
       "\n",
       "      Status         Study Results Conditions  \\\n",
       "0  Completed  No Results Available   COVID-19   \n",
       "1  Completed           Has Results   COVID-19   \n",
       "2  Completed  No Results Available   COVID-19   \n",
       "3  Completed  No Results Available   COVID-19   \n",
       "4  Completed  No Results Available   COVID-19   \n",
       "\n",
       "                                       Interventions  \\\n",
       "0                                   Drug: Infliximab   \n",
       "1                            Drug: C21|Drug: Placebo   \n",
       "2                                  Drug: Tocilizumab   \n",
       "3                                    Other: Exposure   \n",
       "4  Drug: Standard COVID-19 care|Dietary Supplemen...   \n",
       "\n",
       "                                    Outcome Measures Gender  \\\n",
       "0  Time to improvement in oxygenation|28-day mort...    All   \n",
       "1  Change From Baseline in C-reactive Protein (CR...    All   \n",
       "2  To calulate the time of intubation|To calculat...    All   \n",
       "3  Differences in gut microbiota composition betw...    All   \n",
       "4  Percentage of subjects with COVID-19 disease p...    All   \n",
       "\n",
       "                                           Age   Phases  Enrollment  \\\n",
       "0    18 Years and older   (Adult, Older Adult)  Phase 2          17   \n",
       "1  18 Years to 70 Years   (Adult, Older Adult)  Phase 2         206   \n",
       "2    18 Years and older   (Adult, Older Adult)  Phase 2         495   \n",
       "3    18 Years and older   (Adult, Older Adult)      NaN         115   \n",
       "4    18 Years and older   (Adult, Older Adult)  Phase 3         152   \n",
       "\n",
       "       Funded Bys      Study Type          Start Date    Completion Date  \\\n",
       "0       Other|NIH  Interventional        June 1, 2020   January 22, 2021   \n",
       "1  Industry|Other  Interventional       July 21, 2020   October 13, 2020   \n",
       "2  Other|Industry  Interventional        May 22, 2020  December 23, 2020   \n",
       "3           Other   Observational      April 20, 2020      July 16, 2020   \n",
       "4           Other  Interventional  September 29, 2020     April 15, 2021   \n",
       "\n",
       "      First Posted        Locations  CODE iso_alpha  \n",
       "0    June 11, 2020    United States  None       USA  \n",
       "1    June 30, 2020   United Kingdom  None       GBR  \n",
       "2    June 24, 2020            Spain  None       ESP  \n",
       "3   April 21, 2020         Portugal  None       PRT  \n",
       "4  October 8, 2020         Pakistan  None       PAK  "
      ]
     },
     "execution_count": 156,
     "metadata": {},
     "output_type": "execute_result"
    }
   ],
   "source": [
    "# generate country code  based on country name \n",
    "#https://opensource.com/article/20/4/python-map-covid-19\n",
    "from pycountry import pycountry\n",
    "\n",
    "list_countries = remove_columns['Locations'].unique().tolist()\n",
    "print(list_countries) \n",
    "d_country_code = {}\n",
    "for country in list_countries:\n",
    "    try:\n",
    "        country_data = pycountry.countries.search_fuzzy(country)\n",
    "        country_code = country_data[0].alpha_3\n",
    "        d_country_code.update({country: country_code})\n",
    "    except:\n",
    "        print('could not add ISO 3 code for ->', country)\n",
    "        # If could not find country, make ISO code ' '\n",
    "        d_country_code.update({country: ' '})\n",
    "for k, v in d_country_code.items():\n",
    "    remove_columns.loc[(remove_columns.Locations == k), 'iso_alpha'] = v\n",
    "remove_columns.head()         "
   ]
  },
  {
   "cell_type": "code",
   "execution_count": 280,
   "metadata": {
    "scrolled": true
   },
   "outputs": [
    {
     "data": {
      "text/html": [
       "<div>\n",
       "<style scoped>\n",
       "    .dataframe tbody tr th:only-of-type {\n",
       "        vertical-align: middle;\n",
       "    }\n",
       "\n",
       "    .dataframe tbody tr th {\n",
       "        vertical-align: top;\n",
       "    }\n",
       "\n",
       "    .dataframe thead th {\n",
       "        text-align: right;\n",
       "    }\n",
       "</style>\n",
       "<table border=\"1\" class=\"dataframe\">\n",
       "  <thead>\n",
       "    <tr style=\"text-align: right;\">\n",
       "      <th></th>\n",
       "      <th>Locations</th>\n",
       "      <th>Enrollment</th>\n",
       "      <th>Trial Count</th>\n",
       "      <th>Code</th>\n",
       "    </tr>\n",
       "  </thead>\n",
       "  <tbody>\n",
       "    <tr>\n",
       "      <th>22</th>\n",
       "      <td>France</td>\n",
       "      <td>15479349</td>\n",
       "      <td>158</td>\n",
       "      <td>FRA</td>\n",
       "    </tr>\n",
       "    <tr>\n",
       "      <th>67</th>\n",
       "      <td>Turkey</td>\n",
       "      <td>8030457</td>\n",
       "      <td>126</td>\n",
       "      <td>TUR</td>\n",
       "    </tr>\n",
       "    <tr>\n",
       "      <th>18</th>\n",
       "      <td>Denmark</td>\n",
       "      <td>6019176</td>\n",
       "      <td>10</td>\n",
       "      <td>DNK</td>\n",
       "    </tr>\n",
       "    <tr>\n",
       "      <th>13</th>\n",
       "      <td>China</td>\n",
       "      <td>582327</td>\n",
       "      <td>37</td>\n",
       "      <td>CHN</td>\n",
       "    </tr>\n",
       "    <tr>\n",
       "      <th>72</th>\n",
       "      <td>United States</td>\n",
       "      <td>368098</td>\n",
       "      <td>171</td>\n",
       "      <td>USA</td>\n",
       "    </tr>\n",
       "    <tr>\n",
       "      <th>...</th>\n",
       "      <td>...</td>\n",
       "      <td>...</td>\n",
       "      <td>...</td>\n",
       "      <td>...</td>\n",
       "    </tr>\n",
       "    <tr>\n",
       "      <th>6</th>\n",
       "      <td>Bolivia</td>\n",
       "      <td>30</td>\n",
       "      <td>1</td>\n",
       "      <td>BOL</td>\n",
       "    </tr>\n",
       "    <tr>\n",
       "      <th>15</th>\n",
       "      <td>Costa Rica</td>\n",
       "      <td>26</td>\n",
       "      <td>1</td>\n",
       "      <td>CRI</td>\n",
       "    </tr>\n",
       "    <tr>\n",
       "      <th>26</th>\n",
       "      <td>Honduras</td>\n",
       "      <td>22</td>\n",
       "      <td>1</td>\n",
       "      <td>HND</td>\n",
       "    </tr>\n",
       "    <tr>\n",
       "      <th>74</th>\n",
       "      <td>Vietnam</td>\n",
       "      <td>10</td>\n",
       "      <td>1</td>\n",
       "      <td>VNM</td>\n",
       "    </tr>\n",
       "    <tr>\n",
       "      <th>36</th>\n",
       "      <td>Japan</td>\n",
       "      <td>6</td>\n",
       "      <td>1</td>\n",
       "      <td>JPN</td>\n",
       "    </tr>\n",
       "  </tbody>\n",
       "</table>\n",
       "<p>75 rows × 4 columns</p>\n",
       "</div>"
      ],
      "text/plain": [
       "         Locations  Enrollment  Trial Count Code\n",
       "22          France    15479349          158  FRA\n",
       "67          Turkey     8030457          126  TUR\n",
       "18         Denmark     6019176           10  DNK\n",
       "13           China      582327           37  CHN\n",
       "72   United States      368098          171  USA\n",
       "..             ...         ...          ...  ...\n",
       "6          Bolivia          30            1  BOL\n",
       "15      Costa Rica          26            1  CRI\n",
       "26        Honduras          22            1  HND\n",
       "74         Vietnam          10            1  VNM\n",
       "36           Japan           6            1  JPN\n",
       "\n",
       "[75 rows x 4 columns]"
      ]
     },
     "execution_count": 280,
     "metadata": {},
     "output_type": "execute_result"
    }
   ],
   "source": [
    "countries_enrol = remove_columns.groupby('Locations')['Enrollment'].sum()\n",
    "iso_v = remove_columns.groupby('Locations')['iso_alpha'].count()\n",
    "iso_u = remove_columns.groupby('Locations')['iso_alpha'].max()\n",
    "\n",
    "country_loc = pd.DataFrame(\n",
    "        {\n",
    "            'Enrollment' : countries_enrol,\n",
    "            'Trial Count' : iso_v,\n",
    "            'Code' : iso_u\n",
    "        }\n",
    "                \n",
    ")\n",
    "country_loc = country_loc.reset_index() \n",
    "country_loc.sort_values(by='Enrollment', ascending=False)\n",
    "#country_loc['Code'].map(lambda x: str(x)).map(lambda x: x.replace('[]',''))\n",
    "\n",
    "#country_loc.dtypes()\n",
    "#iso_u\n",
    "\n",
    "\n",
    "\n",
    "\n",
    "\n",
    "\n",
    "\n",
    "\n"
   ]
  },
  {
   "cell_type": "code",
   "execution_count": 303,
   "metadata": {
    "scrolled": true
   },
   "outputs": [
    {
     "data": {
      "application/vnd.plotly.v1+json": {
       "config": {
        "plotlyServerURL": "https://plot.ly"
       },
       "data": [
        {
         "coloraxis": "coloraxis",
         "geo": "geo",
         "hovertemplate": "<b>%{hovertext}</b><br><br>Code=%{location}<br>Enrollment=%{z}<extra></extra>",
         "hovertext": [
          " Argentina",
          " Australia",
          " Austria",
          " Bahrain",
          " Bangladesh",
          " Belgium",
          " Bolivia",
          " Bosnia and Herzegovina",
          " Brazil",
          " Bulgaria",
          " Burkina Faso",
          " Canada",
          " Chile",
          " China",
          " Colombia",
          " Costa Rica",
          " Cyprus",
          " Czechia",
          " Denmark",
          " Dominican Republic",
          " Ecuador",
          " Egypt",
          " France",
          " Germany",
          " Greece",
          " Guinea",
          " Honduras",
          " Hong Kong",
          " Hungary",
          " Iceland",
          " India",
          " Indonesia",
          " Iraq",
          " Islamic Republic of",
          " Israel",
          " Italy",
          " Japan",
          " Jordan",
          " Kazakhstan",
          " Kuwait",
          " Kyrgyzstan",
          " Malaysia",
          " Martinique",
          " Mexico",
          " Monaco",
          " Netherlands",
          " North Macedonia",
          " Norway",
          " Pakistan",
          " Paraguay",
          " Peru",
          " Poland",
          " Portugal",
          " Puerto Rico",
          " Qatar",
          " Republic of",
          " Russian Federation",
          " Saudi Arabia",
          " Singapore",
          " Slovenia",
          " South Africa",
          " Spain",
          " Sweden",
          " Switzerland",
          " Taiwan",
          " Thailand",
          " Tunisia",
          " Turkey",
          " Uganda",
          " Ukraine",
          " United Arab Emirates",
          " United Kingdom",
          " United States",
          " Uruguay",
          " Vietnam"
         ],
         "locations": [
          "ARG",
          "AUS",
          "AUT",
          "BHR",
          "BGD",
          "BEL",
          "BOL",
          "BIH",
          "BRA",
          "BGR",
          "BFA",
          "CAN",
          "CHL",
          "CHN",
          "COL",
          "CRI",
          "CYP",
          "CZE",
          "DNK",
          "DOM",
          "ECU",
          "EGY",
          "FRA",
          "DEU",
          "GRC",
          "GIN",
          "HND",
          "HKG",
          "HUN",
          "ISL",
          "IND",
          "IDN",
          "IRQ",
          "AFG",
          "ISR",
          "ITA",
          "JPN",
          "JOR",
          "KAZ",
          "KWT",
          "KGZ",
          "MYS",
          "MTQ",
          "MEX",
          "MCO",
          "NLD",
          "MKD",
          "NOR",
          "PAK",
          "PRY",
          "PER",
          "POL",
          "PRT",
          "PRI",
          "QAT",
          "ALB",
          "RUS",
          "SAU",
          "SGP",
          "SVN",
          "ZAF",
          "ESP",
          "SWE",
          "CHE",
          "TWN",
          "THA",
          "TUN",
          "TUR",
          "UGA",
          "UKR",
          "ARE",
          "GBR",
          "USA",
          "URY",
          "VNM"
         ],
         "name": "",
         "type": "choropleth",
         "z": [
          12667,
          292,
          6965,
          40,
          1417,
          42478,
          30,
          120,
          7294,
          60,
          153,
          10850,
          1339,
          582327,
          1642,
          26,
          673,
          27695,
          6019176,
          713,
          171,
          21699,
          15479349,
          5144,
          2818,
          2495,
          22,
          303,
          441,
          1580,
          3892,
          2199,
          205,
          423,
          775,
          25347,
          6,
          819,
          244,
          104,
          195,
          1199,
          186,
          8445,
          3403,
          1903,
          200,
          24917,
          10754,
          350,
          100,
          3846,
          732,
          32,
          456,
          598,
          9523,
          1102,
          10626,
          36,
          181,
          117404,
          20872,
          5095,
          33,
          63,
          498,
          8030457,
          136,
          417,
          517,
          136960,
          368098,
          3500,
          10
         ]
        }
       ],
       "layout": {
        "coloraxis": {
         "colorbar": {
          "title": {
           "text": "Enrollment"
          }
         },
         "colorscale": [
          [
           0,
           "blue"
          ],
          [
           0.5,
           "green"
          ],
          [
           1,
           "red"
          ]
         ]
        },
        "geo": {
         "center": {},
         "domain": {
          "x": [
           0,
           1
          ],
          "y": [
           0,
           1
          ]
         }
        },
        "legend": {
         "tracegroupgap": 0
        },
        "margin": {
         "t": 60
        },
        "template": {
         "data": {
          "bar": [
           {
            "error_x": {
             "color": "#2a3f5f"
            },
            "error_y": {
             "color": "#2a3f5f"
            },
            "marker": {
             "line": {
              "color": "#E5ECF6",
              "width": 0.5
             }
            },
            "type": "bar"
           }
          ],
          "barpolar": [
           {
            "marker": {
             "line": {
              "color": "#E5ECF6",
              "width": 0.5
             }
            },
            "type": "barpolar"
           }
          ],
          "carpet": [
           {
            "aaxis": {
             "endlinecolor": "#2a3f5f",
             "gridcolor": "white",
             "linecolor": "white",
             "minorgridcolor": "white",
             "startlinecolor": "#2a3f5f"
            },
            "baxis": {
             "endlinecolor": "#2a3f5f",
             "gridcolor": "white",
             "linecolor": "white",
             "minorgridcolor": "white",
             "startlinecolor": "#2a3f5f"
            },
            "type": "carpet"
           }
          ],
          "choropleth": [
           {
            "colorbar": {
             "outlinewidth": 0,
             "ticks": ""
            },
            "type": "choropleth"
           }
          ],
          "contour": [
           {
            "colorbar": {
             "outlinewidth": 0,
             "ticks": ""
            },
            "colorscale": [
             [
              0,
              "#0d0887"
             ],
             [
              0.1111111111111111,
              "#46039f"
             ],
             [
              0.2222222222222222,
              "#7201a8"
             ],
             [
              0.3333333333333333,
              "#9c179e"
             ],
             [
              0.4444444444444444,
              "#bd3786"
             ],
             [
              0.5555555555555556,
              "#d8576b"
             ],
             [
              0.6666666666666666,
              "#ed7953"
             ],
             [
              0.7777777777777778,
              "#fb9f3a"
             ],
             [
              0.8888888888888888,
              "#fdca26"
             ],
             [
              1,
              "#f0f921"
             ]
            ],
            "type": "contour"
           }
          ],
          "contourcarpet": [
           {
            "colorbar": {
             "outlinewidth": 0,
             "ticks": ""
            },
            "type": "contourcarpet"
           }
          ],
          "heatmap": [
           {
            "colorbar": {
             "outlinewidth": 0,
             "ticks": ""
            },
            "colorscale": [
             [
              0,
              "#0d0887"
             ],
             [
              0.1111111111111111,
              "#46039f"
             ],
             [
              0.2222222222222222,
              "#7201a8"
             ],
             [
              0.3333333333333333,
              "#9c179e"
             ],
             [
              0.4444444444444444,
              "#bd3786"
             ],
             [
              0.5555555555555556,
              "#d8576b"
             ],
             [
              0.6666666666666666,
              "#ed7953"
             ],
             [
              0.7777777777777778,
              "#fb9f3a"
             ],
             [
              0.8888888888888888,
              "#fdca26"
             ],
             [
              1,
              "#f0f921"
             ]
            ],
            "type": "heatmap"
           }
          ],
          "heatmapgl": [
           {
            "colorbar": {
             "outlinewidth": 0,
             "ticks": ""
            },
            "colorscale": [
             [
              0,
              "#0d0887"
             ],
             [
              0.1111111111111111,
              "#46039f"
             ],
             [
              0.2222222222222222,
              "#7201a8"
             ],
             [
              0.3333333333333333,
              "#9c179e"
             ],
             [
              0.4444444444444444,
              "#bd3786"
             ],
             [
              0.5555555555555556,
              "#d8576b"
             ],
             [
              0.6666666666666666,
              "#ed7953"
             ],
             [
              0.7777777777777778,
              "#fb9f3a"
             ],
             [
              0.8888888888888888,
              "#fdca26"
             ],
             [
              1,
              "#f0f921"
             ]
            ],
            "type": "heatmapgl"
           }
          ],
          "histogram": [
           {
            "marker": {
             "colorbar": {
              "outlinewidth": 0,
              "ticks": ""
             }
            },
            "type": "histogram"
           }
          ],
          "histogram2d": [
           {
            "colorbar": {
             "outlinewidth": 0,
             "ticks": ""
            },
            "colorscale": [
             [
              0,
              "#0d0887"
             ],
             [
              0.1111111111111111,
              "#46039f"
             ],
             [
              0.2222222222222222,
              "#7201a8"
             ],
             [
              0.3333333333333333,
              "#9c179e"
             ],
             [
              0.4444444444444444,
              "#bd3786"
             ],
             [
              0.5555555555555556,
              "#d8576b"
             ],
             [
              0.6666666666666666,
              "#ed7953"
             ],
             [
              0.7777777777777778,
              "#fb9f3a"
             ],
             [
              0.8888888888888888,
              "#fdca26"
             ],
             [
              1,
              "#f0f921"
             ]
            ],
            "type": "histogram2d"
           }
          ],
          "histogram2dcontour": [
           {
            "colorbar": {
             "outlinewidth": 0,
             "ticks": ""
            },
            "colorscale": [
             [
              0,
              "#0d0887"
             ],
             [
              0.1111111111111111,
              "#46039f"
             ],
             [
              0.2222222222222222,
              "#7201a8"
             ],
             [
              0.3333333333333333,
              "#9c179e"
             ],
             [
              0.4444444444444444,
              "#bd3786"
             ],
             [
              0.5555555555555556,
              "#d8576b"
             ],
             [
              0.6666666666666666,
              "#ed7953"
             ],
             [
              0.7777777777777778,
              "#fb9f3a"
             ],
             [
              0.8888888888888888,
              "#fdca26"
             ],
             [
              1,
              "#f0f921"
             ]
            ],
            "type": "histogram2dcontour"
           }
          ],
          "mesh3d": [
           {
            "colorbar": {
             "outlinewidth": 0,
             "ticks": ""
            },
            "type": "mesh3d"
           }
          ],
          "parcoords": [
           {
            "line": {
             "colorbar": {
              "outlinewidth": 0,
              "ticks": ""
             }
            },
            "type": "parcoords"
           }
          ],
          "pie": [
           {
            "automargin": true,
            "type": "pie"
           }
          ],
          "scatter": [
           {
            "marker": {
             "colorbar": {
              "outlinewidth": 0,
              "ticks": ""
             }
            },
            "type": "scatter"
           }
          ],
          "scatter3d": [
           {
            "line": {
             "colorbar": {
              "outlinewidth": 0,
              "ticks": ""
             }
            },
            "marker": {
             "colorbar": {
              "outlinewidth": 0,
              "ticks": ""
             }
            },
            "type": "scatter3d"
           }
          ],
          "scattercarpet": [
           {
            "marker": {
             "colorbar": {
              "outlinewidth": 0,
              "ticks": ""
             }
            },
            "type": "scattercarpet"
           }
          ],
          "scattergeo": [
           {
            "marker": {
             "colorbar": {
              "outlinewidth": 0,
              "ticks": ""
             }
            },
            "type": "scattergeo"
           }
          ],
          "scattergl": [
           {
            "marker": {
             "colorbar": {
              "outlinewidth": 0,
              "ticks": ""
             }
            },
            "type": "scattergl"
           }
          ],
          "scattermapbox": [
           {
            "marker": {
             "colorbar": {
              "outlinewidth": 0,
              "ticks": ""
             }
            },
            "type": "scattermapbox"
           }
          ],
          "scatterpolar": [
           {
            "marker": {
             "colorbar": {
              "outlinewidth": 0,
              "ticks": ""
             }
            },
            "type": "scatterpolar"
           }
          ],
          "scatterpolargl": [
           {
            "marker": {
             "colorbar": {
              "outlinewidth": 0,
              "ticks": ""
             }
            },
            "type": "scatterpolargl"
           }
          ],
          "scatterternary": [
           {
            "marker": {
             "colorbar": {
              "outlinewidth": 0,
              "ticks": ""
             }
            },
            "type": "scatterternary"
           }
          ],
          "surface": [
           {
            "colorbar": {
             "outlinewidth": 0,
             "ticks": ""
            },
            "colorscale": [
             [
              0,
              "#0d0887"
             ],
             [
              0.1111111111111111,
              "#46039f"
             ],
             [
              0.2222222222222222,
              "#7201a8"
             ],
             [
              0.3333333333333333,
              "#9c179e"
             ],
             [
              0.4444444444444444,
              "#bd3786"
             ],
             [
              0.5555555555555556,
              "#d8576b"
             ],
             [
              0.6666666666666666,
              "#ed7953"
             ],
             [
              0.7777777777777778,
              "#fb9f3a"
             ],
             [
              0.8888888888888888,
              "#fdca26"
             ],
             [
              1,
              "#f0f921"
             ]
            ],
            "type": "surface"
           }
          ],
          "table": [
           {
            "cells": {
             "fill": {
              "color": "#EBF0F8"
             },
             "line": {
              "color": "white"
             }
            },
            "header": {
             "fill": {
              "color": "#C8D4E3"
             },
             "line": {
              "color": "white"
             }
            },
            "type": "table"
           }
          ]
         },
         "layout": {
          "annotationdefaults": {
           "arrowcolor": "#2a3f5f",
           "arrowhead": 0,
           "arrowwidth": 1
          },
          "autotypenumbers": "strict",
          "coloraxis": {
           "colorbar": {
            "outlinewidth": 0,
            "ticks": ""
           }
          },
          "colorscale": {
           "diverging": [
            [
             0,
             "#8e0152"
            ],
            [
             0.1,
             "#c51b7d"
            ],
            [
             0.2,
             "#de77ae"
            ],
            [
             0.3,
             "#f1b6da"
            ],
            [
             0.4,
             "#fde0ef"
            ],
            [
             0.5,
             "#f7f7f7"
            ],
            [
             0.6,
             "#e6f5d0"
            ],
            [
             0.7,
             "#b8e186"
            ],
            [
             0.8,
             "#7fbc41"
            ],
            [
             0.9,
             "#4d9221"
            ],
            [
             1,
             "#276419"
            ]
           ],
           "sequential": [
            [
             0,
             "#0d0887"
            ],
            [
             0.1111111111111111,
             "#46039f"
            ],
            [
             0.2222222222222222,
             "#7201a8"
            ],
            [
             0.3333333333333333,
             "#9c179e"
            ],
            [
             0.4444444444444444,
             "#bd3786"
            ],
            [
             0.5555555555555556,
             "#d8576b"
            ],
            [
             0.6666666666666666,
             "#ed7953"
            ],
            [
             0.7777777777777778,
             "#fb9f3a"
            ],
            [
             0.8888888888888888,
             "#fdca26"
            ],
            [
             1,
             "#f0f921"
            ]
           ],
           "sequentialminus": [
            [
             0,
             "#0d0887"
            ],
            [
             0.1111111111111111,
             "#46039f"
            ],
            [
             0.2222222222222222,
             "#7201a8"
            ],
            [
             0.3333333333333333,
             "#9c179e"
            ],
            [
             0.4444444444444444,
             "#bd3786"
            ],
            [
             0.5555555555555556,
             "#d8576b"
            ],
            [
             0.6666666666666666,
             "#ed7953"
            ],
            [
             0.7777777777777778,
             "#fb9f3a"
            ],
            [
             0.8888888888888888,
             "#fdca26"
            ],
            [
             1,
             "#f0f921"
            ]
           ]
          },
          "colorway": [
           "#636efa",
           "#EF553B",
           "#00cc96",
           "#ab63fa",
           "#FFA15A",
           "#19d3f3",
           "#FF6692",
           "#B6E880",
           "#FF97FF",
           "#FECB52"
          ],
          "font": {
           "color": "#2a3f5f"
          },
          "geo": {
           "bgcolor": "white",
           "lakecolor": "white",
           "landcolor": "#E5ECF6",
           "showlakes": true,
           "showland": true,
           "subunitcolor": "white"
          },
          "hoverlabel": {
           "align": "left"
          },
          "hovermode": "closest",
          "mapbox": {
           "style": "light"
          },
          "paper_bgcolor": "white",
          "plot_bgcolor": "#E5ECF6",
          "polar": {
           "angularaxis": {
            "gridcolor": "white",
            "linecolor": "white",
            "ticks": ""
           },
           "bgcolor": "#E5ECF6",
           "radialaxis": {
            "gridcolor": "white",
            "linecolor": "white",
            "ticks": ""
           }
          },
          "scene": {
           "xaxis": {
            "backgroundcolor": "#E5ECF6",
            "gridcolor": "white",
            "gridwidth": 2,
            "linecolor": "white",
            "showbackground": true,
            "ticks": "",
            "zerolinecolor": "white"
           },
           "yaxis": {
            "backgroundcolor": "#E5ECF6",
            "gridcolor": "white",
            "gridwidth": 2,
            "linecolor": "white",
            "showbackground": true,
            "ticks": "",
            "zerolinecolor": "white"
           },
           "zaxis": {
            "backgroundcolor": "#E5ECF6",
            "gridcolor": "white",
            "gridwidth": 2,
            "linecolor": "white",
            "showbackground": true,
            "ticks": "",
            "zerolinecolor": "white"
           }
          },
          "shapedefaults": {
           "line": {
            "color": "#2a3f5f"
           }
          },
          "ternary": {
           "aaxis": {
            "gridcolor": "white",
            "linecolor": "white",
            "ticks": ""
           },
           "baxis": {
            "gridcolor": "white",
            "linecolor": "white",
            "ticks": ""
           },
           "bgcolor": "#E5ECF6",
           "caxis": {
            "gridcolor": "white",
            "linecolor": "white",
            "ticks": ""
           }
          },
          "title": {
           "x": 0.05
          },
          "xaxis": {
           "automargin": true,
           "gridcolor": "white",
           "linecolor": "white",
           "ticks": "",
           "title": {
            "standoff": 15
           },
           "zerolinecolor": "white",
           "zerolinewidth": 2
          },
          "yaxis": {
           "automargin": true,
           "gridcolor": "white",
           "linecolor": "white",
           "ticks": "",
           "title": {
            "standoff": 15
           },
           "zerolinecolor": "white",
           "zerolinewidth": 2
          }
         }
        }
       }
      },
      "text/html": [
       "<div>                            <div id=\"ede2d5a4-6bfa-4db7-82ce-c154588f1130\" class=\"plotly-graph-div\" style=\"height:525px; width:100%;\"></div>            <script type=\"text/javascript\">                require([\"plotly\"], function(Plotly) {                    window.PLOTLYENV=window.PLOTLYENV || {};                                    if (document.getElementById(\"ede2d5a4-6bfa-4db7-82ce-c154588f1130\")) {                    Plotly.newPlot(                        \"ede2d5a4-6bfa-4db7-82ce-c154588f1130\",                        [{\"coloraxis\": \"coloraxis\", \"geo\": \"geo\", \"hovertemplate\": \"<b>%{hovertext}</b><br><br>Code=%{location}<br>Enrollment=%{z}<extra></extra>\", \"hovertext\": [\" Argentina\", \" Australia\", \" Austria\", \" Bahrain\", \" Bangladesh\", \" Belgium\", \" Bolivia\", \" Bosnia and Herzegovina\", \" Brazil\", \" Bulgaria\", \" Burkina Faso\", \" Canada\", \" Chile\", \" China\", \" Colombia\", \" Costa Rica\", \" Cyprus\", \" Czechia\", \" Denmark\", \" Dominican Republic\", \" Ecuador\", \" Egypt\", \" France\", \" Germany\", \" Greece\", \" Guinea\", \" Honduras\", \" Hong Kong\", \" Hungary\", \" Iceland\", \" India\", \" Indonesia\", \" Iraq\", \" Islamic Republic of\", \" Israel\", \" Italy\", \" Japan\", \" Jordan\", \" Kazakhstan\", \" Kuwait\", \" Kyrgyzstan\", \" Malaysia\", \" Martinique\", \" Mexico\", \" Monaco\", \" Netherlands\", \" North Macedonia\", \" Norway\", \" Pakistan\", \" Paraguay\", \" Peru\", \" Poland\", \" Portugal\", \" Puerto Rico\", \" Qatar\", \" Republic of\", \" Russian Federation\", \" Saudi Arabia\", \" Singapore\", \" Slovenia\", \" South Africa\", \" Spain\", \" Sweden\", \" Switzerland\", \" Taiwan\", \" Thailand\", \" Tunisia\", \" Turkey\", \" Uganda\", \" Ukraine\", \" United Arab Emirates\", \" United Kingdom\", \" United States\", \" Uruguay\", \" Vietnam\"], \"locations\": [\"ARG\", \"AUS\", \"AUT\", \"BHR\", \"BGD\", \"BEL\", \"BOL\", \"BIH\", \"BRA\", \"BGR\", \"BFA\", \"CAN\", \"CHL\", \"CHN\", \"COL\", \"CRI\", \"CYP\", \"CZE\", \"DNK\", \"DOM\", \"ECU\", \"EGY\", \"FRA\", \"DEU\", \"GRC\", \"GIN\", \"HND\", \"HKG\", \"HUN\", \"ISL\", \"IND\", \"IDN\", \"IRQ\", \"AFG\", \"ISR\", \"ITA\", \"JPN\", \"JOR\", \"KAZ\", \"KWT\", \"KGZ\", \"MYS\", \"MTQ\", \"MEX\", \"MCO\", \"NLD\", \"MKD\", \"NOR\", \"PAK\", \"PRY\", \"PER\", \"POL\", \"PRT\", \"PRI\", \"QAT\", \"ALB\", \"RUS\", \"SAU\", \"SGP\", \"SVN\", \"ZAF\", \"ESP\", \"SWE\", \"CHE\", \"TWN\", \"THA\", \"TUN\", \"TUR\", \"UGA\", \"UKR\", \"ARE\", \"GBR\", \"USA\", \"URY\", \"VNM\"], \"name\": \"\", \"type\": \"choropleth\", \"z\": [12667, 292, 6965, 40, 1417, 42478, 30, 120, 7294, 60, 153, 10850, 1339, 582327, 1642, 26, 673, 27695, 6019176, 713, 171, 21699, 15479349, 5144, 2818, 2495, 22, 303, 441, 1580, 3892, 2199, 205, 423, 775, 25347, 6, 819, 244, 104, 195, 1199, 186, 8445, 3403, 1903, 200, 24917, 10754, 350, 100, 3846, 732, 32, 456, 598, 9523, 1102, 10626, 36, 181, 117404, 20872, 5095, 33, 63, 498, 8030457, 136, 417, 517, 136960, 368098, 3500, 10]}],                        {\"coloraxis\": {\"colorbar\": {\"title\": {\"text\": \"Enrollment\"}}, \"colorscale\": [[0, \"blue\"], [0.5, \"green\"], [1, \"red\"]]}, \"geo\": {\"center\": {}, \"domain\": {\"x\": [0.0, 1.0], \"y\": [0.0, 1.0]}}, \"legend\": {\"tracegroupgap\": 0}, \"margin\": {\"t\": 60}, \"template\": {\"data\": {\"bar\": [{\"error_x\": {\"color\": \"#2a3f5f\"}, \"error_y\": {\"color\": \"#2a3f5f\"}, \"marker\": {\"line\": {\"color\": \"#E5ECF6\", \"width\": 0.5}}, \"type\": \"bar\"}], \"barpolar\": [{\"marker\": {\"line\": {\"color\": \"#E5ECF6\", \"width\": 0.5}}, \"type\": \"barpolar\"}], \"carpet\": [{\"aaxis\": {\"endlinecolor\": \"#2a3f5f\", \"gridcolor\": \"white\", \"linecolor\": \"white\", \"minorgridcolor\": \"white\", \"startlinecolor\": \"#2a3f5f\"}, \"baxis\": {\"endlinecolor\": \"#2a3f5f\", \"gridcolor\": \"white\", \"linecolor\": \"white\", \"minorgridcolor\": \"white\", \"startlinecolor\": \"#2a3f5f\"}, \"type\": \"carpet\"}], \"choropleth\": [{\"colorbar\": {\"outlinewidth\": 0, \"ticks\": \"\"}, \"type\": \"choropleth\"}], \"contour\": [{\"colorbar\": {\"outlinewidth\": 0, \"ticks\": \"\"}, \"colorscale\": [[0.0, \"#0d0887\"], [0.1111111111111111, \"#46039f\"], [0.2222222222222222, \"#7201a8\"], [0.3333333333333333, \"#9c179e\"], [0.4444444444444444, \"#bd3786\"], [0.5555555555555556, \"#d8576b\"], [0.6666666666666666, \"#ed7953\"], [0.7777777777777778, \"#fb9f3a\"], [0.8888888888888888, \"#fdca26\"], [1.0, \"#f0f921\"]], \"type\": \"contour\"}], \"contourcarpet\": [{\"colorbar\": {\"outlinewidth\": 0, \"ticks\": \"\"}, \"type\": \"contourcarpet\"}], \"heatmap\": [{\"colorbar\": {\"outlinewidth\": 0, \"ticks\": \"\"}, \"colorscale\": [[0.0, \"#0d0887\"], [0.1111111111111111, \"#46039f\"], [0.2222222222222222, \"#7201a8\"], [0.3333333333333333, \"#9c179e\"], [0.4444444444444444, \"#bd3786\"], [0.5555555555555556, \"#d8576b\"], [0.6666666666666666, \"#ed7953\"], [0.7777777777777778, \"#fb9f3a\"], [0.8888888888888888, \"#fdca26\"], [1.0, \"#f0f921\"]], \"type\": \"heatmap\"}], \"heatmapgl\": [{\"colorbar\": {\"outlinewidth\": 0, \"ticks\": \"\"}, \"colorscale\": [[0.0, \"#0d0887\"], [0.1111111111111111, \"#46039f\"], [0.2222222222222222, \"#7201a8\"], [0.3333333333333333, \"#9c179e\"], [0.4444444444444444, \"#bd3786\"], [0.5555555555555556, \"#d8576b\"], [0.6666666666666666, \"#ed7953\"], [0.7777777777777778, \"#fb9f3a\"], [0.8888888888888888, \"#fdca26\"], [1.0, \"#f0f921\"]], \"type\": \"heatmapgl\"}], \"histogram\": [{\"marker\": {\"colorbar\": {\"outlinewidth\": 0, \"ticks\": \"\"}}, \"type\": \"histogram\"}], \"histogram2d\": [{\"colorbar\": {\"outlinewidth\": 0, \"ticks\": \"\"}, \"colorscale\": [[0.0, \"#0d0887\"], [0.1111111111111111, \"#46039f\"], [0.2222222222222222, \"#7201a8\"], [0.3333333333333333, \"#9c179e\"], [0.4444444444444444, \"#bd3786\"], [0.5555555555555556, \"#d8576b\"], [0.6666666666666666, \"#ed7953\"], [0.7777777777777778, \"#fb9f3a\"], [0.8888888888888888, \"#fdca26\"], [1.0, \"#f0f921\"]], \"type\": \"histogram2d\"}], \"histogram2dcontour\": [{\"colorbar\": {\"outlinewidth\": 0, \"ticks\": \"\"}, \"colorscale\": [[0.0, \"#0d0887\"], [0.1111111111111111, \"#46039f\"], [0.2222222222222222, \"#7201a8\"], [0.3333333333333333, \"#9c179e\"], [0.4444444444444444, \"#bd3786\"], [0.5555555555555556, \"#d8576b\"], [0.6666666666666666, \"#ed7953\"], [0.7777777777777778, \"#fb9f3a\"], [0.8888888888888888, \"#fdca26\"], [1.0, \"#f0f921\"]], \"type\": \"histogram2dcontour\"}], \"mesh3d\": [{\"colorbar\": {\"outlinewidth\": 0, \"ticks\": \"\"}, \"type\": \"mesh3d\"}], \"parcoords\": [{\"line\": {\"colorbar\": {\"outlinewidth\": 0, \"ticks\": \"\"}}, \"type\": \"parcoords\"}], \"pie\": [{\"automargin\": true, \"type\": \"pie\"}], \"scatter\": [{\"marker\": {\"colorbar\": {\"outlinewidth\": 0, \"ticks\": \"\"}}, \"type\": \"scatter\"}], \"scatter3d\": [{\"line\": {\"colorbar\": {\"outlinewidth\": 0, \"ticks\": \"\"}}, \"marker\": {\"colorbar\": {\"outlinewidth\": 0, \"ticks\": \"\"}}, \"type\": \"scatter3d\"}], \"scattercarpet\": [{\"marker\": {\"colorbar\": {\"outlinewidth\": 0, \"ticks\": \"\"}}, \"type\": \"scattercarpet\"}], \"scattergeo\": [{\"marker\": {\"colorbar\": {\"outlinewidth\": 0, \"ticks\": \"\"}}, \"type\": \"scattergeo\"}], \"scattergl\": [{\"marker\": {\"colorbar\": {\"outlinewidth\": 0, \"ticks\": \"\"}}, \"type\": \"scattergl\"}], \"scattermapbox\": [{\"marker\": {\"colorbar\": {\"outlinewidth\": 0, \"ticks\": \"\"}}, \"type\": \"scattermapbox\"}], \"scatterpolar\": [{\"marker\": {\"colorbar\": {\"outlinewidth\": 0, \"ticks\": \"\"}}, \"type\": \"scatterpolar\"}], \"scatterpolargl\": [{\"marker\": {\"colorbar\": {\"outlinewidth\": 0, \"ticks\": \"\"}}, \"type\": \"scatterpolargl\"}], \"scatterternary\": [{\"marker\": {\"colorbar\": {\"outlinewidth\": 0, \"ticks\": \"\"}}, \"type\": \"scatterternary\"}], \"surface\": [{\"colorbar\": {\"outlinewidth\": 0, \"ticks\": \"\"}, \"colorscale\": [[0.0, \"#0d0887\"], [0.1111111111111111, \"#46039f\"], [0.2222222222222222, \"#7201a8\"], [0.3333333333333333, \"#9c179e\"], [0.4444444444444444, \"#bd3786\"], [0.5555555555555556, \"#d8576b\"], [0.6666666666666666, \"#ed7953\"], [0.7777777777777778, \"#fb9f3a\"], [0.8888888888888888, \"#fdca26\"], [1.0, \"#f0f921\"]], \"type\": \"surface\"}], \"table\": [{\"cells\": {\"fill\": {\"color\": \"#EBF0F8\"}, \"line\": {\"color\": \"white\"}}, \"header\": {\"fill\": {\"color\": \"#C8D4E3\"}, \"line\": {\"color\": \"white\"}}, \"type\": \"table\"}]}, \"layout\": {\"annotationdefaults\": {\"arrowcolor\": \"#2a3f5f\", \"arrowhead\": 0, \"arrowwidth\": 1}, \"autotypenumbers\": \"strict\", \"coloraxis\": {\"colorbar\": {\"outlinewidth\": 0, \"ticks\": \"\"}}, \"colorscale\": {\"diverging\": [[0, \"#8e0152\"], [0.1, \"#c51b7d\"], [0.2, \"#de77ae\"], [0.3, \"#f1b6da\"], [0.4, \"#fde0ef\"], [0.5, \"#f7f7f7\"], [0.6, \"#e6f5d0\"], [0.7, \"#b8e186\"], [0.8, \"#7fbc41\"], [0.9, \"#4d9221\"], [1, \"#276419\"]], \"sequential\": [[0.0, \"#0d0887\"], [0.1111111111111111, \"#46039f\"], [0.2222222222222222, \"#7201a8\"], [0.3333333333333333, \"#9c179e\"], [0.4444444444444444, \"#bd3786\"], [0.5555555555555556, \"#d8576b\"], [0.6666666666666666, \"#ed7953\"], [0.7777777777777778, \"#fb9f3a\"], [0.8888888888888888, \"#fdca26\"], [1.0, \"#f0f921\"]], \"sequentialminus\": [[0.0, \"#0d0887\"], [0.1111111111111111, \"#46039f\"], [0.2222222222222222, \"#7201a8\"], [0.3333333333333333, \"#9c179e\"], [0.4444444444444444, \"#bd3786\"], [0.5555555555555556, \"#d8576b\"], [0.6666666666666666, \"#ed7953\"], [0.7777777777777778, \"#fb9f3a\"], [0.8888888888888888, \"#fdca26\"], [1.0, \"#f0f921\"]]}, \"colorway\": [\"#636efa\", \"#EF553B\", \"#00cc96\", \"#ab63fa\", \"#FFA15A\", \"#19d3f3\", \"#FF6692\", \"#B6E880\", \"#FF97FF\", \"#FECB52\"], \"font\": {\"color\": \"#2a3f5f\"}, \"geo\": {\"bgcolor\": \"white\", \"lakecolor\": \"white\", \"landcolor\": \"#E5ECF6\", \"showlakes\": true, \"showland\": true, \"subunitcolor\": \"white\"}, \"hoverlabel\": {\"align\": \"left\"}, \"hovermode\": \"closest\", \"mapbox\": {\"style\": \"light\"}, \"paper_bgcolor\": \"white\", \"plot_bgcolor\": \"#E5ECF6\", \"polar\": {\"angularaxis\": {\"gridcolor\": \"white\", \"linecolor\": \"white\", \"ticks\": \"\"}, \"bgcolor\": \"#E5ECF6\", \"radialaxis\": {\"gridcolor\": \"white\", \"linecolor\": \"white\", \"ticks\": \"\"}}, \"scene\": {\"xaxis\": {\"backgroundcolor\": \"#E5ECF6\", \"gridcolor\": \"white\", \"gridwidth\": 2, \"linecolor\": \"white\", \"showbackground\": true, \"ticks\": \"\", \"zerolinecolor\": \"white\"}, \"yaxis\": {\"backgroundcolor\": \"#E5ECF6\", \"gridcolor\": \"white\", \"gridwidth\": 2, \"linecolor\": \"white\", \"showbackground\": true, \"ticks\": \"\", \"zerolinecolor\": \"white\"}, \"zaxis\": {\"backgroundcolor\": \"#E5ECF6\", \"gridcolor\": \"white\", \"gridwidth\": 2, \"linecolor\": \"white\", \"showbackground\": true, \"ticks\": \"\", \"zerolinecolor\": \"white\"}}, \"shapedefaults\": {\"line\": {\"color\": \"#2a3f5f\"}}, \"ternary\": {\"aaxis\": {\"gridcolor\": \"white\", \"linecolor\": \"white\", \"ticks\": \"\"}, \"baxis\": {\"gridcolor\": \"white\", \"linecolor\": \"white\", \"ticks\": \"\"}, \"bgcolor\": \"#E5ECF6\", \"caxis\": {\"gridcolor\": \"white\", \"linecolor\": \"white\", \"ticks\": \"\"}}, \"title\": {\"x\": 0.05}, \"xaxis\": {\"automargin\": true, \"gridcolor\": \"white\", \"linecolor\": \"white\", \"ticks\": \"\", \"title\": {\"standoff\": 15}, \"zerolinecolor\": \"white\", \"zerolinewidth\": 2}, \"yaxis\": {\"automargin\": true, \"gridcolor\": \"white\", \"linecolor\": \"white\", \"ticks\": \"\", \"title\": {\"standoff\": 15}, \"zerolinecolor\": \"white\", \"zerolinewidth\": 2}}}},                        {\"responsive\": true}                    ).then(function(){\n",
       "                            \n",
       "var gd = document.getElementById('ede2d5a4-6bfa-4db7-82ce-c154588f1130');\n",
       "var x = new MutationObserver(function (mutations, observer) {{\n",
       "        var display = window.getComputedStyle(gd).display;\n",
       "        if (!display || display === 'none') {{\n",
       "            console.log([gd, 'removed!']);\n",
       "            Plotly.purge(gd);\n",
       "            observer.disconnect();\n",
       "        }}\n",
       "}});\n",
       "\n",
       "// Listen for the removal of the full notebook cells\n",
       "var notebookContainer = gd.closest('#notebook-container');\n",
       "if (notebookContainer) {{\n",
       "    x.observe(notebookContainer, {childList: true});\n",
       "}}\n",
       "\n",
       "// Listen for the clearing of the current output cell\n",
       "var outputEl = gd.closest('.output');\n",
       "if (outputEl) {{\n",
       "    x.observe(outputEl, {childList: true});\n",
       "}}\n",
       "\n",
       "                        })                };                });            </script>        </div>"
      ]
     },
     "metadata": {},
     "output_type": "display_data"
    }
   ],
   "source": [
    "import plotly.express as px\n",
    "\n",
    "fig = px.choropleth(data_frame = country_loc,\n",
    "                    locations = \"Code\",\n",
    "                    color = \"Enrollment\",\n",
    "                    hover_name = \"Locations\",\n",
    "                    color_continuous_scale = [(0, \"blue\"), (0.5, \"green\"), (1, \"red\")])\n",
    "                    \n",
    "\n",
    "fig.show()"
   ]
  },
  {
   "cell_type": "code",
   "execution_count": 302,
   "metadata": {},
   "outputs": [
    {
     "data": {
      "application/vnd.plotly.v1+json": {
       "config": {
        "plotlyServerURL": "https://plot.ly"
       },
       "data": [
        {
         "coloraxis": "coloraxis",
         "geo": "geo",
         "hovertemplate": "<b>%{hovertext}</b><br><br>Code=%{location}<br>Trial Count=%{z}<extra></extra>",
         "hovertext": [
          " Argentina",
          " Australia",
          " Austria",
          " Bahrain",
          " Bangladesh",
          " Belgium",
          " Bolivia",
          " Bosnia and Herzegovina",
          " Brazil",
          " Bulgaria",
          " Burkina Faso",
          " Canada",
          " Chile",
          " China",
          " Colombia",
          " Costa Rica",
          " Cyprus",
          " Czechia",
          " Denmark",
          " Dominican Republic",
          " Ecuador",
          " Egypt",
          " France",
          " Germany",
          " Greece",
          " Guinea",
          " Honduras",
          " Hong Kong",
          " Hungary",
          " Iceland",
          " India",
          " Indonesia",
          " Iraq",
          " Islamic Republic of",
          " Israel",
          " Italy",
          " Japan",
          " Jordan",
          " Kazakhstan",
          " Kuwait",
          " Kyrgyzstan",
          " Malaysia",
          " Martinique",
          " Mexico",
          " Monaco",
          " Netherlands",
          " North Macedonia",
          " Norway",
          " Pakistan",
          " Paraguay",
          " Peru",
          " Poland",
          " Portugal",
          " Puerto Rico",
          " Qatar",
          " Republic of",
          " Russian Federation",
          " Saudi Arabia",
          " Singapore",
          " Slovenia",
          " South Africa",
          " Spain",
          " Sweden",
          " Switzerland",
          " Taiwan",
          " Thailand",
          " Tunisia",
          " Turkey",
          " Uganda",
          " Ukraine",
          " United Arab Emirates",
          " United Kingdom",
          " United States",
          " Uruguay",
          " Vietnam"
         ],
         "locations": [
          "ARG",
          "AUS",
          "AUT",
          "BHR",
          "BGD",
          "BEL",
          "BOL",
          "BIH",
          "BRA",
          "BGR",
          "BFA",
          "CAN",
          "CHL",
          "CHN",
          "COL",
          "CRI",
          "CYP",
          "CZE",
          "DNK",
          "DOM",
          "ECU",
          "EGY",
          "FRA",
          "DEU",
          "GRC",
          "GIN",
          "HND",
          "HKG",
          "HUN",
          "ISL",
          "IND",
          "IDN",
          "IRQ",
          "AFG",
          "ISR",
          "ITA",
          "JPN",
          "JOR",
          "KAZ",
          "KWT",
          "KGZ",
          "MYS",
          "MTQ",
          "MEX",
          "MCO",
          "NLD",
          "MKD",
          "NOR",
          "PAK",
          "PRY",
          "PER",
          "POL",
          "PRT",
          "PRI",
          "QAT",
          "ALB",
          "RUS",
          "SAU",
          "SGP",
          "SVN",
          "ZAF",
          "ESP",
          "SWE",
          "CHE",
          "TWN",
          "THA",
          "TUN",
          "TUR",
          "UGA",
          "UKR",
          "ARE",
          "GBR",
          "USA",
          "URY",
          "VNM"
         ],
         "name": "",
         "type": "choropleth",
         "z": [
          20,
          4,
          5,
          1,
          7,
          25,
          1,
          1,
          23,
          1,
          1,
          18,
          5,
          37,
          9,
          1,
          1,
          2,
          10,
          1,
          2,
          63,
          158,
          19,
          10,
          1,
          1,
          4,
          1,
          1,
          15,
          7,
          3,
          5,
          10,
          57,
          1,
          3,
          1,
          1,
          1,
          7,
          1,
          27,
          3,
          9,
          1,
          5,
          29,
          1,
          1,
          9,
          3,
          1,
          1,
          2,
          25,
          6,
          13,
          1,
          1,
          55,
          14,
          12,
          1,
          2,
          2,
          126,
          1,
          3,
          4,
          44,
          171,
          1,
          1
         ]
        }
       ],
       "layout": {
        "coloraxis": {
         "colorbar": {
          "title": {
           "text": "Trial Count"
          }
         },
         "colorscale": [
          [
           0,
           "blue"
          ],
          [
           0.5,
           "green"
          ],
          [
           1,
           "red"
          ]
         ]
        },
        "geo": {
         "center": {},
         "domain": {
          "x": [
           0,
           1
          ],
          "y": [
           0,
           1
          ]
         }
        },
        "legend": {
         "tracegroupgap": 0
        },
        "margin": {
         "t": 60
        },
        "template": {
         "data": {
          "bar": [
           {
            "error_x": {
             "color": "#2a3f5f"
            },
            "error_y": {
             "color": "#2a3f5f"
            },
            "marker": {
             "line": {
              "color": "#E5ECF6",
              "width": 0.5
             }
            },
            "type": "bar"
           }
          ],
          "barpolar": [
           {
            "marker": {
             "line": {
              "color": "#E5ECF6",
              "width": 0.5
             }
            },
            "type": "barpolar"
           }
          ],
          "carpet": [
           {
            "aaxis": {
             "endlinecolor": "#2a3f5f",
             "gridcolor": "white",
             "linecolor": "white",
             "minorgridcolor": "white",
             "startlinecolor": "#2a3f5f"
            },
            "baxis": {
             "endlinecolor": "#2a3f5f",
             "gridcolor": "white",
             "linecolor": "white",
             "minorgridcolor": "white",
             "startlinecolor": "#2a3f5f"
            },
            "type": "carpet"
           }
          ],
          "choropleth": [
           {
            "colorbar": {
             "outlinewidth": 0,
             "ticks": ""
            },
            "type": "choropleth"
           }
          ],
          "contour": [
           {
            "colorbar": {
             "outlinewidth": 0,
             "ticks": ""
            },
            "colorscale": [
             [
              0,
              "#0d0887"
             ],
             [
              0.1111111111111111,
              "#46039f"
             ],
             [
              0.2222222222222222,
              "#7201a8"
             ],
             [
              0.3333333333333333,
              "#9c179e"
             ],
             [
              0.4444444444444444,
              "#bd3786"
             ],
             [
              0.5555555555555556,
              "#d8576b"
             ],
             [
              0.6666666666666666,
              "#ed7953"
             ],
             [
              0.7777777777777778,
              "#fb9f3a"
             ],
             [
              0.8888888888888888,
              "#fdca26"
             ],
             [
              1,
              "#f0f921"
             ]
            ],
            "type": "contour"
           }
          ],
          "contourcarpet": [
           {
            "colorbar": {
             "outlinewidth": 0,
             "ticks": ""
            },
            "type": "contourcarpet"
           }
          ],
          "heatmap": [
           {
            "colorbar": {
             "outlinewidth": 0,
             "ticks": ""
            },
            "colorscale": [
             [
              0,
              "#0d0887"
             ],
             [
              0.1111111111111111,
              "#46039f"
             ],
             [
              0.2222222222222222,
              "#7201a8"
             ],
             [
              0.3333333333333333,
              "#9c179e"
             ],
             [
              0.4444444444444444,
              "#bd3786"
             ],
             [
              0.5555555555555556,
              "#d8576b"
             ],
             [
              0.6666666666666666,
              "#ed7953"
             ],
             [
              0.7777777777777778,
              "#fb9f3a"
             ],
             [
              0.8888888888888888,
              "#fdca26"
             ],
             [
              1,
              "#f0f921"
             ]
            ],
            "type": "heatmap"
           }
          ],
          "heatmapgl": [
           {
            "colorbar": {
             "outlinewidth": 0,
             "ticks": ""
            },
            "colorscale": [
             [
              0,
              "#0d0887"
             ],
             [
              0.1111111111111111,
              "#46039f"
             ],
             [
              0.2222222222222222,
              "#7201a8"
             ],
             [
              0.3333333333333333,
              "#9c179e"
             ],
             [
              0.4444444444444444,
              "#bd3786"
             ],
             [
              0.5555555555555556,
              "#d8576b"
             ],
             [
              0.6666666666666666,
              "#ed7953"
             ],
             [
              0.7777777777777778,
              "#fb9f3a"
             ],
             [
              0.8888888888888888,
              "#fdca26"
             ],
             [
              1,
              "#f0f921"
             ]
            ],
            "type": "heatmapgl"
           }
          ],
          "histogram": [
           {
            "marker": {
             "colorbar": {
              "outlinewidth": 0,
              "ticks": ""
             }
            },
            "type": "histogram"
           }
          ],
          "histogram2d": [
           {
            "colorbar": {
             "outlinewidth": 0,
             "ticks": ""
            },
            "colorscale": [
             [
              0,
              "#0d0887"
             ],
             [
              0.1111111111111111,
              "#46039f"
             ],
             [
              0.2222222222222222,
              "#7201a8"
             ],
             [
              0.3333333333333333,
              "#9c179e"
             ],
             [
              0.4444444444444444,
              "#bd3786"
             ],
             [
              0.5555555555555556,
              "#d8576b"
             ],
             [
              0.6666666666666666,
              "#ed7953"
             ],
             [
              0.7777777777777778,
              "#fb9f3a"
             ],
             [
              0.8888888888888888,
              "#fdca26"
             ],
             [
              1,
              "#f0f921"
             ]
            ],
            "type": "histogram2d"
           }
          ],
          "histogram2dcontour": [
           {
            "colorbar": {
             "outlinewidth": 0,
             "ticks": ""
            },
            "colorscale": [
             [
              0,
              "#0d0887"
             ],
             [
              0.1111111111111111,
              "#46039f"
             ],
             [
              0.2222222222222222,
              "#7201a8"
             ],
             [
              0.3333333333333333,
              "#9c179e"
             ],
             [
              0.4444444444444444,
              "#bd3786"
             ],
             [
              0.5555555555555556,
              "#d8576b"
             ],
             [
              0.6666666666666666,
              "#ed7953"
             ],
             [
              0.7777777777777778,
              "#fb9f3a"
             ],
             [
              0.8888888888888888,
              "#fdca26"
             ],
             [
              1,
              "#f0f921"
             ]
            ],
            "type": "histogram2dcontour"
           }
          ],
          "mesh3d": [
           {
            "colorbar": {
             "outlinewidth": 0,
             "ticks": ""
            },
            "type": "mesh3d"
           }
          ],
          "parcoords": [
           {
            "line": {
             "colorbar": {
              "outlinewidth": 0,
              "ticks": ""
             }
            },
            "type": "parcoords"
           }
          ],
          "pie": [
           {
            "automargin": true,
            "type": "pie"
           }
          ],
          "scatter": [
           {
            "marker": {
             "colorbar": {
              "outlinewidth": 0,
              "ticks": ""
             }
            },
            "type": "scatter"
           }
          ],
          "scatter3d": [
           {
            "line": {
             "colorbar": {
              "outlinewidth": 0,
              "ticks": ""
             }
            },
            "marker": {
             "colorbar": {
              "outlinewidth": 0,
              "ticks": ""
             }
            },
            "type": "scatter3d"
           }
          ],
          "scattercarpet": [
           {
            "marker": {
             "colorbar": {
              "outlinewidth": 0,
              "ticks": ""
             }
            },
            "type": "scattercarpet"
           }
          ],
          "scattergeo": [
           {
            "marker": {
             "colorbar": {
              "outlinewidth": 0,
              "ticks": ""
             }
            },
            "type": "scattergeo"
           }
          ],
          "scattergl": [
           {
            "marker": {
             "colorbar": {
              "outlinewidth": 0,
              "ticks": ""
             }
            },
            "type": "scattergl"
           }
          ],
          "scattermapbox": [
           {
            "marker": {
             "colorbar": {
              "outlinewidth": 0,
              "ticks": ""
             }
            },
            "type": "scattermapbox"
           }
          ],
          "scatterpolar": [
           {
            "marker": {
             "colorbar": {
              "outlinewidth": 0,
              "ticks": ""
             }
            },
            "type": "scatterpolar"
           }
          ],
          "scatterpolargl": [
           {
            "marker": {
             "colorbar": {
              "outlinewidth": 0,
              "ticks": ""
             }
            },
            "type": "scatterpolargl"
           }
          ],
          "scatterternary": [
           {
            "marker": {
             "colorbar": {
              "outlinewidth": 0,
              "ticks": ""
             }
            },
            "type": "scatterternary"
           }
          ],
          "surface": [
           {
            "colorbar": {
             "outlinewidth": 0,
             "ticks": ""
            },
            "colorscale": [
             [
              0,
              "#0d0887"
             ],
             [
              0.1111111111111111,
              "#46039f"
             ],
             [
              0.2222222222222222,
              "#7201a8"
             ],
             [
              0.3333333333333333,
              "#9c179e"
             ],
             [
              0.4444444444444444,
              "#bd3786"
             ],
             [
              0.5555555555555556,
              "#d8576b"
             ],
             [
              0.6666666666666666,
              "#ed7953"
             ],
             [
              0.7777777777777778,
              "#fb9f3a"
             ],
             [
              0.8888888888888888,
              "#fdca26"
             ],
             [
              1,
              "#f0f921"
             ]
            ],
            "type": "surface"
           }
          ],
          "table": [
           {
            "cells": {
             "fill": {
              "color": "#EBF0F8"
             },
             "line": {
              "color": "white"
             }
            },
            "header": {
             "fill": {
              "color": "#C8D4E3"
             },
             "line": {
              "color": "white"
             }
            },
            "type": "table"
           }
          ]
         },
         "layout": {
          "annotationdefaults": {
           "arrowcolor": "#2a3f5f",
           "arrowhead": 0,
           "arrowwidth": 1
          },
          "autotypenumbers": "strict",
          "coloraxis": {
           "colorbar": {
            "outlinewidth": 0,
            "ticks": ""
           }
          },
          "colorscale": {
           "diverging": [
            [
             0,
             "#8e0152"
            ],
            [
             0.1,
             "#c51b7d"
            ],
            [
             0.2,
             "#de77ae"
            ],
            [
             0.3,
             "#f1b6da"
            ],
            [
             0.4,
             "#fde0ef"
            ],
            [
             0.5,
             "#f7f7f7"
            ],
            [
             0.6,
             "#e6f5d0"
            ],
            [
             0.7,
             "#b8e186"
            ],
            [
             0.8,
             "#7fbc41"
            ],
            [
             0.9,
             "#4d9221"
            ],
            [
             1,
             "#276419"
            ]
           ],
           "sequential": [
            [
             0,
             "#0d0887"
            ],
            [
             0.1111111111111111,
             "#46039f"
            ],
            [
             0.2222222222222222,
             "#7201a8"
            ],
            [
             0.3333333333333333,
             "#9c179e"
            ],
            [
             0.4444444444444444,
             "#bd3786"
            ],
            [
             0.5555555555555556,
             "#d8576b"
            ],
            [
             0.6666666666666666,
             "#ed7953"
            ],
            [
             0.7777777777777778,
             "#fb9f3a"
            ],
            [
             0.8888888888888888,
             "#fdca26"
            ],
            [
             1,
             "#f0f921"
            ]
           ],
           "sequentialminus": [
            [
             0,
             "#0d0887"
            ],
            [
             0.1111111111111111,
             "#46039f"
            ],
            [
             0.2222222222222222,
             "#7201a8"
            ],
            [
             0.3333333333333333,
             "#9c179e"
            ],
            [
             0.4444444444444444,
             "#bd3786"
            ],
            [
             0.5555555555555556,
             "#d8576b"
            ],
            [
             0.6666666666666666,
             "#ed7953"
            ],
            [
             0.7777777777777778,
             "#fb9f3a"
            ],
            [
             0.8888888888888888,
             "#fdca26"
            ],
            [
             1,
             "#f0f921"
            ]
           ]
          },
          "colorway": [
           "#636efa",
           "#EF553B",
           "#00cc96",
           "#ab63fa",
           "#FFA15A",
           "#19d3f3",
           "#FF6692",
           "#B6E880",
           "#FF97FF",
           "#FECB52"
          ],
          "font": {
           "color": "#2a3f5f"
          },
          "geo": {
           "bgcolor": "white",
           "lakecolor": "white",
           "landcolor": "#E5ECF6",
           "showlakes": true,
           "showland": true,
           "subunitcolor": "white"
          },
          "hoverlabel": {
           "align": "left"
          },
          "hovermode": "closest",
          "mapbox": {
           "style": "light"
          },
          "paper_bgcolor": "white",
          "plot_bgcolor": "#E5ECF6",
          "polar": {
           "angularaxis": {
            "gridcolor": "white",
            "linecolor": "white",
            "ticks": ""
           },
           "bgcolor": "#E5ECF6",
           "radialaxis": {
            "gridcolor": "white",
            "linecolor": "white",
            "ticks": ""
           }
          },
          "scene": {
           "xaxis": {
            "backgroundcolor": "#E5ECF6",
            "gridcolor": "white",
            "gridwidth": 2,
            "linecolor": "white",
            "showbackground": true,
            "ticks": "",
            "zerolinecolor": "white"
           },
           "yaxis": {
            "backgroundcolor": "#E5ECF6",
            "gridcolor": "white",
            "gridwidth": 2,
            "linecolor": "white",
            "showbackground": true,
            "ticks": "",
            "zerolinecolor": "white"
           },
           "zaxis": {
            "backgroundcolor": "#E5ECF6",
            "gridcolor": "white",
            "gridwidth": 2,
            "linecolor": "white",
            "showbackground": true,
            "ticks": "",
            "zerolinecolor": "white"
           }
          },
          "shapedefaults": {
           "line": {
            "color": "#2a3f5f"
           }
          },
          "ternary": {
           "aaxis": {
            "gridcolor": "white",
            "linecolor": "white",
            "ticks": ""
           },
           "baxis": {
            "gridcolor": "white",
            "linecolor": "white",
            "ticks": ""
           },
           "bgcolor": "#E5ECF6",
           "caxis": {
            "gridcolor": "white",
            "linecolor": "white",
            "ticks": ""
           }
          },
          "title": {
           "x": 0.05
          },
          "xaxis": {
           "automargin": true,
           "gridcolor": "white",
           "linecolor": "white",
           "ticks": "",
           "title": {
            "standoff": 15
           },
           "zerolinecolor": "white",
           "zerolinewidth": 2
          },
          "yaxis": {
           "automargin": true,
           "gridcolor": "white",
           "linecolor": "white",
           "ticks": "",
           "title": {
            "standoff": 15
           },
           "zerolinecolor": "white",
           "zerolinewidth": 2
          }
         }
        }
       }
      },
      "text/html": [
       "<div>                            <div id=\"20f464b3-6c3a-4d63-a723-3fc6b3c37925\" class=\"plotly-graph-div\" style=\"height:525px; width:100%;\"></div>            <script type=\"text/javascript\">                require([\"plotly\"], function(Plotly) {                    window.PLOTLYENV=window.PLOTLYENV || {};                                    if (document.getElementById(\"20f464b3-6c3a-4d63-a723-3fc6b3c37925\")) {                    Plotly.newPlot(                        \"20f464b3-6c3a-4d63-a723-3fc6b3c37925\",                        [{\"coloraxis\": \"coloraxis\", \"geo\": \"geo\", \"hovertemplate\": \"<b>%{hovertext}</b><br><br>Code=%{location}<br>Trial Count=%{z}<extra></extra>\", \"hovertext\": [\" Argentina\", \" Australia\", \" Austria\", \" Bahrain\", \" Bangladesh\", \" Belgium\", \" Bolivia\", \" Bosnia and Herzegovina\", \" Brazil\", \" Bulgaria\", \" Burkina Faso\", \" Canada\", \" Chile\", \" China\", \" Colombia\", \" Costa Rica\", \" Cyprus\", \" Czechia\", \" Denmark\", \" Dominican Republic\", \" Ecuador\", \" Egypt\", \" France\", \" Germany\", \" Greece\", \" Guinea\", \" Honduras\", \" Hong Kong\", \" Hungary\", \" Iceland\", \" India\", \" Indonesia\", \" Iraq\", \" Islamic Republic of\", \" Israel\", \" Italy\", \" Japan\", \" Jordan\", \" Kazakhstan\", \" Kuwait\", \" Kyrgyzstan\", \" Malaysia\", \" Martinique\", \" Mexico\", \" Monaco\", \" Netherlands\", \" North Macedonia\", \" Norway\", \" Pakistan\", \" Paraguay\", \" Peru\", \" Poland\", \" Portugal\", \" Puerto Rico\", \" Qatar\", \" Republic of\", \" Russian Federation\", \" Saudi Arabia\", \" Singapore\", \" Slovenia\", \" South Africa\", \" Spain\", \" Sweden\", \" Switzerland\", \" Taiwan\", \" Thailand\", \" Tunisia\", \" Turkey\", \" Uganda\", \" Ukraine\", \" United Arab Emirates\", \" United Kingdom\", \" United States\", \" Uruguay\", \" Vietnam\"], \"locations\": [\"ARG\", \"AUS\", \"AUT\", \"BHR\", \"BGD\", \"BEL\", \"BOL\", \"BIH\", \"BRA\", \"BGR\", \"BFA\", \"CAN\", \"CHL\", \"CHN\", \"COL\", \"CRI\", \"CYP\", \"CZE\", \"DNK\", \"DOM\", \"ECU\", \"EGY\", \"FRA\", \"DEU\", \"GRC\", \"GIN\", \"HND\", \"HKG\", \"HUN\", \"ISL\", \"IND\", \"IDN\", \"IRQ\", \"AFG\", \"ISR\", \"ITA\", \"JPN\", \"JOR\", \"KAZ\", \"KWT\", \"KGZ\", \"MYS\", \"MTQ\", \"MEX\", \"MCO\", \"NLD\", \"MKD\", \"NOR\", \"PAK\", \"PRY\", \"PER\", \"POL\", \"PRT\", \"PRI\", \"QAT\", \"ALB\", \"RUS\", \"SAU\", \"SGP\", \"SVN\", \"ZAF\", \"ESP\", \"SWE\", \"CHE\", \"TWN\", \"THA\", \"TUN\", \"TUR\", \"UGA\", \"UKR\", \"ARE\", \"GBR\", \"USA\", \"URY\", \"VNM\"], \"name\": \"\", \"type\": \"choropleth\", \"z\": [20, 4, 5, 1, 7, 25, 1, 1, 23, 1, 1, 18, 5, 37, 9, 1, 1, 2, 10, 1, 2, 63, 158, 19, 10, 1, 1, 4, 1, 1, 15, 7, 3, 5, 10, 57, 1, 3, 1, 1, 1, 7, 1, 27, 3, 9, 1, 5, 29, 1, 1, 9, 3, 1, 1, 2, 25, 6, 13, 1, 1, 55, 14, 12, 1, 2, 2, 126, 1, 3, 4, 44, 171, 1, 1]}],                        {\"coloraxis\": {\"colorbar\": {\"title\": {\"text\": \"Trial Count\"}}, \"colorscale\": [[0, \"blue\"], [0.5, \"green\"], [1, \"red\"]]}, \"geo\": {\"center\": {}, \"domain\": {\"x\": [0.0, 1.0], \"y\": [0.0, 1.0]}}, \"legend\": {\"tracegroupgap\": 0}, \"margin\": {\"t\": 60}, \"template\": {\"data\": {\"bar\": [{\"error_x\": {\"color\": \"#2a3f5f\"}, \"error_y\": {\"color\": \"#2a3f5f\"}, \"marker\": {\"line\": {\"color\": \"#E5ECF6\", \"width\": 0.5}}, \"type\": \"bar\"}], \"barpolar\": [{\"marker\": {\"line\": {\"color\": \"#E5ECF6\", \"width\": 0.5}}, \"type\": \"barpolar\"}], \"carpet\": [{\"aaxis\": {\"endlinecolor\": \"#2a3f5f\", \"gridcolor\": \"white\", \"linecolor\": \"white\", \"minorgridcolor\": \"white\", \"startlinecolor\": \"#2a3f5f\"}, \"baxis\": {\"endlinecolor\": \"#2a3f5f\", \"gridcolor\": \"white\", \"linecolor\": \"white\", \"minorgridcolor\": \"white\", \"startlinecolor\": \"#2a3f5f\"}, \"type\": \"carpet\"}], \"choropleth\": [{\"colorbar\": {\"outlinewidth\": 0, \"ticks\": \"\"}, \"type\": \"choropleth\"}], \"contour\": [{\"colorbar\": {\"outlinewidth\": 0, \"ticks\": \"\"}, \"colorscale\": [[0.0, \"#0d0887\"], [0.1111111111111111, \"#46039f\"], [0.2222222222222222, \"#7201a8\"], [0.3333333333333333, \"#9c179e\"], [0.4444444444444444, \"#bd3786\"], [0.5555555555555556, \"#d8576b\"], [0.6666666666666666, \"#ed7953\"], [0.7777777777777778, \"#fb9f3a\"], [0.8888888888888888, \"#fdca26\"], [1.0, \"#f0f921\"]], \"type\": \"contour\"}], \"contourcarpet\": [{\"colorbar\": {\"outlinewidth\": 0, \"ticks\": \"\"}, \"type\": \"contourcarpet\"}], \"heatmap\": [{\"colorbar\": {\"outlinewidth\": 0, \"ticks\": \"\"}, \"colorscale\": [[0.0, \"#0d0887\"], [0.1111111111111111, \"#46039f\"], [0.2222222222222222, \"#7201a8\"], [0.3333333333333333, \"#9c179e\"], [0.4444444444444444, \"#bd3786\"], [0.5555555555555556, \"#d8576b\"], [0.6666666666666666, \"#ed7953\"], [0.7777777777777778, \"#fb9f3a\"], [0.8888888888888888, \"#fdca26\"], [1.0, \"#f0f921\"]], \"type\": \"heatmap\"}], \"heatmapgl\": [{\"colorbar\": {\"outlinewidth\": 0, \"ticks\": \"\"}, \"colorscale\": [[0.0, \"#0d0887\"], [0.1111111111111111, \"#46039f\"], [0.2222222222222222, \"#7201a8\"], [0.3333333333333333, \"#9c179e\"], [0.4444444444444444, \"#bd3786\"], [0.5555555555555556, \"#d8576b\"], [0.6666666666666666, \"#ed7953\"], [0.7777777777777778, \"#fb9f3a\"], [0.8888888888888888, \"#fdca26\"], [1.0, \"#f0f921\"]], \"type\": \"heatmapgl\"}], \"histogram\": [{\"marker\": {\"colorbar\": {\"outlinewidth\": 0, \"ticks\": \"\"}}, \"type\": \"histogram\"}], \"histogram2d\": [{\"colorbar\": {\"outlinewidth\": 0, \"ticks\": \"\"}, \"colorscale\": [[0.0, \"#0d0887\"], [0.1111111111111111, \"#46039f\"], [0.2222222222222222, \"#7201a8\"], [0.3333333333333333, \"#9c179e\"], [0.4444444444444444, \"#bd3786\"], [0.5555555555555556, \"#d8576b\"], [0.6666666666666666, \"#ed7953\"], [0.7777777777777778, \"#fb9f3a\"], [0.8888888888888888, \"#fdca26\"], [1.0, \"#f0f921\"]], \"type\": \"histogram2d\"}], \"histogram2dcontour\": [{\"colorbar\": {\"outlinewidth\": 0, \"ticks\": \"\"}, \"colorscale\": [[0.0, \"#0d0887\"], [0.1111111111111111, \"#46039f\"], [0.2222222222222222, \"#7201a8\"], [0.3333333333333333, \"#9c179e\"], [0.4444444444444444, \"#bd3786\"], [0.5555555555555556, \"#d8576b\"], [0.6666666666666666, \"#ed7953\"], [0.7777777777777778, \"#fb9f3a\"], [0.8888888888888888, \"#fdca26\"], [1.0, \"#f0f921\"]], \"type\": \"histogram2dcontour\"}], \"mesh3d\": [{\"colorbar\": {\"outlinewidth\": 0, \"ticks\": \"\"}, \"type\": \"mesh3d\"}], \"parcoords\": [{\"line\": {\"colorbar\": {\"outlinewidth\": 0, \"ticks\": \"\"}}, \"type\": \"parcoords\"}], \"pie\": [{\"automargin\": true, \"type\": \"pie\"}], \"scatter\": [{\"marker\": {\"colorbar\": {\"outlinewidth\": 0, \"ticks\": \"\"}}, \"type\": \"scatter\"}], \"scatter3d\": [{\"line\": {\"colorbar\": {\"outlinewidth\": 0, \"ticks\": \"\"}}, \"marker\": {\"colorbar\": {\"outlinewidth\": 0, \"ticks\": \"\"}}, \"type\": \"scatter3d\"}], \"scattercarpet\": [{\"marker\": {\"colorbar\": {\"outlinewidth\": 0, \"ticks\": \"\"}}, \"type\": \"scattercarpet\"}], \"scattergeo\": [{\"marker\": {\"colorbar\": {\"outlinewidth\": 0, \"ticks\": \"\"}}, \"type\": \"scattergeo\"}], \"scattergl\": [{\"marker\": {\"colorbar\": {\"outlinewidth\": 0, \"ticks\": \"\"}}, \"type\": \"scattergl\"}], \"scattermapbox\": [{\"marker\": {\"colorbar\": {\"outlinewidth\": 0, \"ticks\": \"\"}}, \"type\": \"scattermapbox\"}], \"scatterpolar\": [{\"marker\": {\"colorbar\": {\"outlinewidth\": 0, \"ticks\": \"\"}}, \"type\": \"scatterpolar\"}], \"scatterpolargl\": [{\"marker\": {\"colorbar\": {\"outlinewidth\": 0, \"ticks\": \"\"}}, \"type\": \"scatterpolargl\"}], \"scatterternary\": [{\"marker\": {\"colorbar\": {\"outlinewidth\": 0, \"ticks\": \"\"}}, \"type\": \"scatterternary\"}], \"surface\": [{\"colorbar\": {\"outlinewidth\": 0, \"ticks\": \"\"}, \"colorscale\": [[0.0, \"#0d0887\"], [0.1111111111111111, \"#46039f\"], [0.2222222222222222, \"#7201a8\"], [0.3333333333333333, \"#9c179e\"], [0.4444444444444444, \"#bd3786\"], [0.5555555555555556, \"#d8576b\"], [0.6666666666666666, \"#ed7953\"], [0.7777777777777778, \"#fb9f3a\"], [0.8888888888888888, \"#fdca26\"], [1.0, \"#f0f921\"]], \"type\": \"surface\"}], \"table\": [{\"cells\": {\"fill\": {\"color\": \"#EBF0F8\"}, \"line\": {\"color\": \"white\"}}, \"header\": {\"fill\": {\"color\": \"#C8D4E3\"}, \"line\": {\"color\": \"white\"}}, \"type\": \"table\"}]}, \"layout\": {\"annotationdefaults\": {\"arrowcolor\": \"#2a3f5f\", \"arrowhead\": 0, \"arrowwidth\": 1}, \"autotypenumbers\": \"strict\", \"coloraxis\": {\"colorbar\": {\"outlinewidth\": 0, \"ticks\": \"\"}}, \"colorscale\": {\"diverging\": [[0, \"#8e0152\"], [0.1, \"#c51b7d\"], [0.2, \"#de77ae\"], [0.3, \"#f1b6da\"], [0.4, \"#fde0ef\"], [0.5, \"#f7f7f7\"], [0.6, \"#e6f5d0\"], [0.7, \"#b8e186\"], [0.8, \"#7fbc41\"], [0.9, \"#4d9221\"], [1, \"#276419\"]], \"sequential\": [[0.0, \"#0d0887\"], [0.1111111111111111, \"#46039f\"], [0.2222222222222222, \"#7201a8\"], [0.3333333333333333, \"#9c179e\"], [0.4444444444444444, \"#bd3786\"], [0.5555555555555556, \"#d8576b\"], [0.6666666666666666, \"#ed7953\"], [0.7777777777777778, \"#fb9f3a\"], [0.8888888888888888, \"#fdca26\"], [1.0, \"#f0f921\"]], \"sequentialminus\": [[0.0, \"#0d0887\"], [0.1111111111111111, \"#46039f\"], [0.2222222222222222, \"#7201a8\"], [0.3333333333333333, \"#9c179e\"], [0.4444444444444444, \"#bd3786\"], [0.5555555555555556, \"#d8576b\"], [0.6666666666666666, \"#ed7953\"], [0.7777777777777778, \"#fb9f3a\"], [0.8888888888888888, \"#fdca26\"], [1.0, \"#f0f921\"]]}, \"colorway\": [\"#636efa\", \"#EF553B\", \"#00cc96\", \"#ab63fa\", \"#FFA15A\", \"#19d3f3\", \"#FF6692\", \"#B6E880\", \"#FF97FF\", \"#FECB52\"], \"font\": {\"color\": \"#2a3f5f\"}, \"geo\": {\"bgcolor\": \"white\", \"lakecolor\": \"white\", \"landcolor\": \"#E5ECF6\", \"showlakes\": true, \"showland\": true, \"subunitcolor\": \"white\"}, \"hoverlabel\": {\"align\": \"left\"}, \"hovermode\": \"closest\", \"mapbox\": {\"style\": \"light\"}, \"paper_bgcolor\": \"white\", \"plot_bgcolor\": \"#E5ECF6\", \"polar\": {\"angularaxis\": {\"gridcolor\": \"white\", \"linecolor\": \"white\", \"ticks\": \"\"}, \"bgcolor\": \"#E5ECF6\", \"radialaxis\": {\"gridcolor\": \"white\", \"linecolor\": \"white\", \"ticks\": \"\"}}, \"scene\": {\"xaxis\": {\"backgroundcolor\": \"#E5ECF6\", \"gridcolor\": \"white\", \"gridwidth\": 2, \"linecolor\": \"white\", \"showbackground\": true, \"ticks\": \"\", \"zerolinecolor\": \"white\"}, \"yaxis\": {\"backgroundcolor\": \"#E5ECF6\", \"gridcolor\": \"white\", \"gridwidth\": 2, \"linecolor\": \"white\", \"showbackground\": true, \"ticks\": \"\", \"zerolinecolor\": \"white\"}, \"zaxis\": {\"backgroundcolor\": \"#E5ECF6\", \"gridcolor\": \"white\", \"gridwidth\": 2, \"linecolor\": \"white\", \"showbackground\": true, \"ticks\": \"\", \"zerolinecolor\": \"white\"}}, \"shapedefaults\": {\"line\": {\"color\": \"#2a3f5f\"}}, \"ternary\": {\"aaxis\": {\"gridcolor\": \"white\", \"linecolor\": \"white\", \"ticks\": \"\"}, \"baxis\": {\"gridcolor\": \"white\", \"linecolor\": \"white\", \"ticks\": \"\"}, \"bgcolor\": \"#E5ECF6\", \"caxis\": {\"gridcolor\": \"white\", \"linecolor\": \"white\", \"ticks\": \"\"}}, \"title\": {\"x\": 0.05}, \"xaxis\": {\"automargin\": true, \"gridcolor\": \"white\", \"linecolor\": \"white\", \"ticks\": \"\", \"title\": {\"standoff\": 15}, \"zerolinecolor\": \"white\", \"zerolinewidth\": 2}, \"yaxis\": {\"automargin\": true, \"gridcolor\": \"white\", \"linecolor\": \"white\", \"ticks\": \"\", \"title\": {\"standoff\": 15}, \"zerolinecolor\": \"white\", \"zerolinewidth\": 2}}}},                        {\"responsive\": true}                    ).then(function(){\n",
       "                            \n",
       "var gd = document.getElementById('20f464b3-6c3a-4d63-a723-3fc6b3c37925');\n",
       "var x = new MutationObserver(function (mutations, observer) {{\n",
       "        var display = window.getComputedStyle(gd).display;\n",
       "        if (!display || display === 'none') {{\n",
       "            console.log([gd, 'removed!']);\n",
       "            Plotly.purge(gd);\n",
       "            observer.disconnect();\n",
       "        }}\n",
       "}});\n",
       "\n",
       "// Listen for the removal of the full notebook cells\n",
       "var notebookContainer = gd.closest('#notebook-container');\n",
       "if (notebookContainer) {{\n",
       "    x.observe(notebookContainer, {childList: true});\n",
       "}}\n",
       "\n",
       "// Listen for the clearing of the current output cell\n",
       "var outputEl = gd.closest('.output');\n",
       "if (outputEl) {{\n",
       "    x.observe(outputEl, {childList: true});\n",
       "}}\n",
       "\n",
       "                        })                };                });            </script>        </div>"
      ]
     },
     "metadata": {},
     "output_type": "display_data"
    }
   ],
   "source": [
    "#import plotly.express as px\n",
    "\n",
    "fig = px.choropleth(data_frame = country_loc,\n",
    "                    locations = \"Code\",\n",
    "                    color = \"Trial Count\",  \n",
    "                    hover_name = \"Locations\",\n",
    "                    color_continuous_scale = [(0, \"blue\"), (0.5, \"green\"), (1, \"red\")])\n",
    "                    \n",
    "\n",
    "fig.show()"
   ]
  },
  {
   "cell_type": "code",
   "execution_count": 289,
   "metadata": {},
   "outputs": [],
   "source": [
    "#counts of funded bys\n",
    "remove_columns['Funded Bys'] = remove_columns['Funded Bys'].replace(\n",
    "{'Industry|Other' : 'Industry', 'Other|Industry' : 'Industry', 'NIH': 'Govt', 'Other|NIH' : 'Govt', 'Other|U.S. Fed' : 'Govt', 'U.S. Fed|Other' : 'Govt', 'U.S. Fed': 'Govt', 'NIH|Other': 'Govt', 'NIH|Industry' : 'Govt'})"
   ]
  },
  {
   "cell_type": "code",
   "execution_count": 295,
   "metadata": {},
   "outputs": [
    {
     "data": {
      "text/plain": [
       "0           Govt\n",
       "1       Industry\n",
       "2       Industry\n",
       "3          Other\n",
       "4          Other\n",
       "          ...   \n",
       "1118    Industry\n",
       "1119       Other\n",
       "1120    Industry\n",
       "1121       Other\n",
       "1122       Other\n",
       "Name: Funded Bys, Length: 1123, dtype: object"
      ]
     },
     "execution_count": 295,
     "metadata": {},
     "output_type": "execute_result"
    }
   ],
   "source": [
    "remove_columns['Funded Bys']"
   ]
  },
  {
   "cell_type": "code",
   "execution_count": 291,
   "metadata": {},
   "outputs": [
    {
     "data": {
      "image/png": "[encoded data removed]",
      "text/plain": [
       "<Figure size 432x288 with 1 Axes>"
      ]
     },
     "metadata": {},
     "output_type": "display_data"
    }
   ],
   "source": [
    "#clean up funded bys\n",
    "fundedby = remove_columns['Funded Bys'].value_counts()\n",
    "plot = fundedby.plot.pie(autopct=\"%1.1f%%\", title='Types of Funders For COVID Trials')\n"
   ]
  },
  {
   "cell_type": "code",
   "execution_count": null,
   "metadata": {},
   "outputs": [],
   "source": []
  },
  {
   "cell_type": "code",
   "execution_count": 42,
   "metadata": {},
   "outputs": [
    {
     "data": {
      "text/plain": [
       "Rank                1123\n",
       "NCT Number          1123\n",
       "Title               1123\n",
       "Status              1123\n",
       "Study Results       1123\n",
       "Conditions          1123\n",
       "Interventions        932\n",
       "Outcome Measures    1123\n",
       "Gender              1116\n",
       "Age                 1123\n",
       "Phases               511\n",
       "Enrollment          1123\n",
       "Funded Bys          1123\n",
       "Study Type          1123\n",
       "Start Date          1123\n",
       "Completion Date     1123\n",
       "First Posted        1123\n",
       "Locations           1120\n",
       "dtype: int64"
      ]
     },
     "execution_count": 42,
     "metadata": {},
     "output_type": "execute_result"
    }
   ],
   "source": [
    "\n",
    "remove_columns.count()"
   ]
  }
 ],
 "metadata": {
  "kernelspec": {
   "display_name": "Python 3",
   "language": "python",
   "name": "python3"
  },
  "language_info": {
   "codemirror_mode": {
    "name": "ipython",
    "version": 3
   },
   "file_extension": ".py",
   "mimetype": "text/x-python",
   "name": "python",
   "nbconvert_exporter": "python",
   "pygments_lexer": "ipython3",
   "version": "3.8.5"
  }
 },
 "nbformat": 4,
 "nbformat_minor": 4
}
