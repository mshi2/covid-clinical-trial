{
 "cells": [
  {
   "cell_type": "code",
   "execution_count": 7,
   "metadata": {},
   "outputs": [
    {
     "data": {
      "text/html": [
       "<div>\n",
       "<style scoped>\n",
       "    .dataframe tbody tr th:only-of-type {\n",
       "        vertical-align: middle;\n",
       "    }\n",
       "\n",
       "    .dataframe tbody tr th {\n",
       "        vertical-align: top;\n",
       "    }\n",
       "\n",
       "    .dataframe thead th {\n",
       "        text-align: right;\n",
       "    }\n",
       "</style>\n",
       "<table border=\"1\" class=\"dataframe\">\n",
       "  <thead>\n",
       "    <tr style=\"text-align: right;\">\n",
       "      <th></th>\n",
       "      <th>NCT Number</th>\n",
       "      <th>Title</th>\n",
       "      <th>Acronym</th>\n",
       "      <th>Status</th>\n",
       "      <th>Study Results</th>\n",
       "      <th>Conditions</th>\n",
       "      <th>Interventions</th>\n",
       "      <th>Gender</th>\n",
       "      <th>Age</th>\n",
       "      <th>Phases</th>\n",
       "      <th>Enrollment</th>\n",
       "      <th>Study Type</th>\n",
       "      <th>URL</th>\n",
       "    </tr>\n",
       "  </thead>\n",
       "  <tbody>\n",
       "    <tr>\n",
       "      <th>0</th>\n",
       "      <td>NCT04425538</td>\n",
       "      <td>A Phase 2 Trial of Infliximab in Coronavirus D...</td>\n",
       "      <td>NaN</td>\n",
       "      <td>Completed</td>\n",
       "      <td>No Results Available</td>\n",
       "      <td>COVID-19</td>\n",
       "      <td>Drug: Infliximab</td>\n",
       "      <td>All</td>\n",
       "      <td>18 Years and older   (Adult, Older Adult)</td>\n",
       "      <td>Phase 2</td>\n",
       "      <td>17</td>\n",
       "      <td>Interventional</td>\n",
       "      <td>https://ClinicalTrials.gov/show/NCT04425538</td>\n",
       "    </tr>\n",
       "    <tr>\n",
       "      <th>1</th>\n",
       "      <td>NCT04452435</td>\n",
       "      <td>Safety and Efficacy of C21 in Subjects With CO...</td>\n",
       "      <td>NaN</td>\n",
       "      <td>Completed</td>\n",
       "      <td>Has Results</td>\n",
       "      <td>COVID-19</td>\n",
       "      <td>Drug: C21|Drug: Placebo</td>\n",
       "      <td>All</td>\n",
       "      <td>18 Years to 70 Years   (Adult, Older Adult)</td>\n",
       "      <td>Phase 2</td>\n",
       "      <td>206</td>\n",
       "      <td>Interventional</td>\n",
       "      <td>https://ClinicalTrials.gov/show/NCT04452435</td>\n",
       "    </tr>\n",
       "    <tr>\n",
       "      <th>2</th>\n",
       "      <td>NCT04445272</td>\n",
       "      <td>Clinical Trial to Evaluate the Effectiveness a...</td>\n",
       "      <td>NaN</td>\n",
       "      <td>Completed</td>\n",
       "      <td>No Results Available</td>\n",
       "      <td>COVID-19</td>\n",
       "      <td>Drug: Tocilizumab</td>\n",
       "      <td>All</td>\n",
       "      <td>18 Years and older   (Adult, Older Adult)</td>\n",
       "      <td>Phase 2</td>\n",
       "      <td>495</td>\n",
       "      <td>Interventional</td>\n",
       "      <td>https://ClinicalTrials.gov/show/NCT04445272</td>\n",
       "    </tr>\n",
       "    <tr>\n",
       "      <th>3</th>\n",
       "      <td>NCT04355741</td>\n",
       "      <td>Gut Microbiota, \"Spark and Flame\" of COVID-19 ...</td>\n",
       "      <td>NaN</td>\n",
       "      <td>Completed</td>\n",
       "      <td>No Results Available</td>\n",
       "      <td>COVID-19</td>\n",
       "      <td>Other: Exposure</td>\n",
       "      <td>All</td>\n",
       "      <td>18 Years and older   (Adult, Older Adult)</td>\n",
       "      <td>NaN</td>\n",
       "      <td>115</td>\n",
       "      <td>Observational</td>\n",
       "      <td>https://ClinicalTrials.gov/show/NCT04355741</td>\n",
       "    </tr>\n",
       "    <tr>\n",
       "      <th>4</th>\n",
       "      <td>NCT04578158</td>\n",
       "      <td>Trial to Study the Adjuvant Benefits of Querce...</td>\n",
       "      <td>NaN</td>\n",
       "      <td>Completed</td>\n",
       "      <td>No Results Available</td>\n",
       "      <td>COVID-19</td>\n",
       "      <td>Drug: Standard COVID-19 care|Dietary Supplemen...</td>\n",
       "      <td>All</td>\n",
       "      <td>18 Years and older   (Adult, Older Adult)</td>\n",
       "      <td>Phase 3</td>\n",
       "      <td>152</td>\n",
       "      <td>Interventional</td>\n",
       "      <td>https://ClinicalTrials.gov/show/NCT04578158</td>\n",
       "    </tr>\n",
       "  </tbody>\n",
       "</table>\n",
       "</div>"
      ],
      "text/plain": [
       "    NCT Number                                              Title Acronym  \\\n",
       "0  NCT04425538  A Phase 2 Trial of Infliximab in Coronavirus D...     NaN   \n",
       "1  NCT04452435  Safety and Efficacy of C21 in Subjects With CO...     NaN   \n",
       "2  NCT04445272  Clinical Trial to Evaluate the Effectiveness a...     NaN   \n",
       "3  NCT04355741  Gut Microbiota, \"Spark and Flame\" of COVID-19 ...     NaN   \n",
       "4  NCT04578158  Trial to Study the Adjuvant Benefits of Querce...     NaN   \n",
       "\n",
       "      Status         Study Results Conditions  \\\n",
       "0  Completed  No Results Available   COVID-19   \n",
       "1  Completed           Has Results   COVID-19   \n",
       "2  Completed  No Results Available   COVID-19   \n",
       "3  Completed  No Results Available   COVID-19   \n",
       "4  Completed  No Results Available   COVID-19   \n",
       "\n",
       "                                       Interventions Gender  \\\n",
       "0                                   Drug: Infliximab    All   \n",
       "1                            Drug: C21|Drug: Placebo    All   \n",
       "2                                  Drug: Tocilizumab    All   \n",
       "3                                    Other: Exposure    All   \n",
       "4  Drug: Standard COVID-19 care|Dietary Supplemen...    All   \n",
       "\n",
       "                                           Age   Phases  Enrollment  \\\n",
       "0    18 Years and older   (Adult, Older Adult)  Phase 2          17   \n",
       "1  18 Years to 70 Years   (Adult, Older Adult)  Phase 2         206   \n",
       "2    18 Years and older   (Adult, Older Adult)  Phase 2         495   \n",
       "3    18 Years and older   (Adult, Older Adult)      NaN         115   \n",
       "4    18 Years and older   (Adult, Older Adult)  Phase 3         152   \n",
       "\n",
       "       Study Type                                          URL  \n",
       "0  Interventional  https://ClinicalTrials.gov/show/NCT04425538  \n",
       "1  Interventional  https://ClinicalTrials.gov/show/NCT04452435  \n",
       "2  Interventional  https://ClinicalTrials.gov/show/NCT04445272  \n",
       "3   Observational  https://ClinicalTrials.gov/show/NCT04355741  \n",
       "4  Interventional  https://ClinicalTrials.gov/show/NCT04578158  "
      ]
     },
     "execution_count": 7,
     "metadata": {},
     "output_type": "execute_result"
    }
   ],
   "source": [
    "import matplotlib.pyplot as plt\n",
    "import pandas as pd\n",
    "from matplotlib.ticker import StrMethodFormatter\n",
    "\n",
    "# File to Load (Remember to Change These)\n",
    "covid = \"covid-clinical-trial_data_cleandata.csv\"\n",
    "\n",
    "# Read Purchasing File and store into Pandas data frame\n",
    "covid_df = pd.read_csv(covid)\n",
    "covid_df.head()"
   ]
  },
  {
   "cell_type": "code",
   "execution_count": 6,
   "metadata": {},
   "outputs": [
    {
     "data": {
      "text/plain": [
       "Not Applicable    239\n",
       "Phase 2           120\n",
       "Phase 3            84\n",
       "Phase 1            43\n",
       "Phase 4            25\n",
       "Name: Phases, dtype: int64"
      ]
     },
     "execution_count": 6,
     "metadata": {},
     "output_type": "execute_result"
    }
   ],
   "source": [
    "# Count how many Studies have occured within each phase\n",
    "phases_counts = covid_df[\"Phases\"].value_counts()\n",
    "phases_counts.head()"
   ]
  },
  {
   "cell_type": "code",
   "execution_count": 8,
   "metadata": {},
   "outputs": [
    {
     "data": {
      "text/html": [
       "<div>\n",
       "<style scoped>\n",
       "    .dataframe tbody tr th:only-of-type {\n",
       "        vertical-align: middle;\n",
       "    }\n",
       "\n",
       "    .dataframe tbody tr th {\n",
       "        vertical-align: top;\n",
       "    }\n",
       "\n",
       "    .dataframe thead th {\n",
       "        text-align: right;\n",
       "    }\n",
       "</style>\n",
       "<table border=\"1\" class=\"dataframe\">\n",
       "  <thead>\n",
       "    <tr style=\"text-align: right;\">\n",
       "      <th></th>\n",
       "      <th>all phases</th>\n",
       "    </tr>\n",
       "  </thead>\n",
       "  <tbody>\n",
       "    <tr>\n",
       "      <th>0</th>\n",
       "      <td>6</td>\n",
       "    </tr>\n",
       "  </tbody>\n",
       "</table>\n",
       "</div>"
      ],
      "text/plain": [
       "   all phases\n",
       "0           6"
      ]
     },
     "execution_count": 8,
     "metadata": {},
     "output_type": "execute_result"
    }
   ],
   "source": [
    "#Arrange variable\n",
    "phases= len(covid_df['Phases'].unique())\n",
    "\n",
    "#set in DF\n",
    "phases_df = pd.DataFrame({\"all phases\": [len(covid_df.Phases.unique())]})\n",
    "phases_df"
   ]
  },
  {
   "cell_type": "code",
   "execution_count": null,
   "metadata": {},
   "outputs": [],
   "source": [
    "\n"
   ]
  },
  {
   "cell_type": "code",
   "execution_count": 44,
   "metadata": {},
   "outputs": [
    {
     "data": {
      "image/png": "[encoded data removed]",
      "text/plain": [
       "<Figure size 432x288 with 1 Axes>"
      ]
     },
     "metadata": {
      "needs_background": "light"
     },
     "output_type": "display_data"
    }
   ],
   "source": [
    "# Generate a bar plot showing the total number of Enrollment for all samples n using Pandas.\n",
    "data_points = covid_df.groupby('Phases').count()['Enrollment']\n",
    "panda_bar = pd.DataFrame(data_points)\n",
    "#plot bar\n",
    "also = panda_bar.plot.bar(legend=False,rot=60)\n",
    "also\n",
    "plt.ylabel(\"Number of Enrollment\")\n",
    "plt.title(\"Phase per study\")\n",
    "plt.savefig('barplot1')\n"
   ]
  },
  {
   "cell_type": "code",
   "execution_count": 45,
   "metadata": {},
   "outputs": [
    {
     "data": {
      "text/html": [
       "<div>\n",
       "<style scoped>\n",
       "    .dataframe tbody tr th:only-of-type {\n",
       "        vertical-align: middle;\n",
       "    }\n",
       "\n",
       "    .dataframe tbody tr th {\n",
       "        vertical-align: top;\n",
       "    }\n",
       "\n",
       "    .dataframe thead th {\n",
       "        text-align: right;\n",
       "    }\n",
       "</style>\n",
       "<table border=\"1\" class=\"dataframe\">\n",
       "  <thead>\n",
       "    <tr style=\"text-align: right;\">\n",
       "      <th></th>\n",
       "      <th>Enrollment</th>\n",
       "    </tr>\n",
       "    <tr>\n",
       "      <th>Phases</th>\n",
       "      <th></th>\n",
       "    </tr>\n",
       "  </thead>\n",
       "  <tbody>\n",
       "    <tr>\n",
       "      <th>Not Applicable</th>\n",
       "      <td>239</td>\n",
       "    </tr>\n",
       "    <tr>\n",
       "      <th>Phase 1</th>\n",
       "      <td>43</td>\n",
       "    </tr>\n",
       "    <tr>\n",
       "      <th>Phase 2</th>\n",
       "      <td>120</td>\n",
       "    </tr>\n",
       "    <tr>\n",
       "      <th>Phase 3</th>\n",
       "      <td>84</td>\n",
       "    </tr>\n",
       "    <tr>\n",
       "      <th>Phase 4</th>\n",
       "      <td>25</td>\n",
       "    </tr>\n",
       "  </tbody>\n",
       "</table>\n",
       "</div>"
      ],
      "text/plain": [
       "                Enrollment\n",
       "Phases                    \n",
       "Not Applicable         239\n",
       "Phase 1                 43\n",
       "Phase 2                120\n",
       "Phase 3                 84\n",
       "Phase 4                 25"
      ]
     },
     "execution_count": 45,
     "metadata": {},
     "output_type": "execute_result"
    }
   ],
   "source": [
    "panda_bar.head()"
   ]
  },
  {
   "cell_type": "code",
   "execution_count": 19,
   "metadata": {},
   "outputs": [
    {
     "ename": "NameError",
     "evalue": "name 'Phases' is not defined",
     "output_type": "error",
     "traceback": [
      "\u001b[0;31m---------------------------------------------------------------------------\u001b[0m",
      "\u001b[0;31mNameError\u001b[0m                                 Traceback (most recent call last)",
      "\u001b[0;32m<ipython-input-19-b723967c2e09>\u001b[0m in \u001b[0;36m<module>\u001b[0;34m\u001b[0m\n\u001b[0;32m----> 1\u001b[0;31m \u001b[0mPhases\u001b[0m\u001b[0;34m.\u001b[0m\u001b[0mdtype\u001b[0m\u001b[0;34m(\u001b[0m\u001b[0;34m)\u001b[0m\u001b[0;34m\u001b[0m\u001b[0;34m\u001b[0m\u001b[0m\n\u001b[0m",
      "\u001b[0;31mNameError\u001b[0m: name 'Phases' is not defined"
     ]
    }
   ],
   "source": []
  },
  {
   "cell_type": "code",
   "execution_count": null,
   "metadata": {},
   "outputs": [],
   "source": []
  },
  {
   "cell_type": "code",
   "execution_count": 46,
   "metadata": {},
   "outputs": [
    {
     "data": {
      "text/html": [
       "<div>\n",
       "<style scoped>\n",
       "    .dataframe tbody tr th:only-of-type {\n",
       "        vertical-align: middle;\n",
       "    }\n",
       "\n",
       "    .dataframe tbody tr th {\n",
       "        vertical-align: top;\n",
       "    }\n",
       "\n",
       "    .dataframe thead th {\n",
       "        text-align: right;\n",
       "    }\n",
       "</style>\n",
       "<table border=\"1\" class=\"dataframe\">\n",
       "  <thead>\n",
       "    <tr style=\"text-align: right;\">\n",
       "      <th></th>\n",
       "      <th>NCT Number</th>\n",
       "      <th>Title</th>\n",
       "      <th>Acronym</th>\n",
       "      <th>Status</th>\n",
       "      <th>Study Results</th>\n",
       "      <th>Conditions</th>\n",
       "      <th>Interventions</th>\n",
       "      <th>Gender</th>\n",
       "      <th>Age</th>\n",
       "      <th>Phases</th>\n",
       "      <th>Enrollment</th>\n",
       "      <th>URL</th>\n",
       "    </tr>\n",
       "    <tr>\n",
       "      <th>Study Type</th>\n",
       "      <th></th>\n",
       "      <th></th>\n",
       "      <th></th>\n",
       "      <th></th>\n",
       "      <th></th>\n",
       "      <th></th>\n",
       "      <th></th>\n",
       "      <th></th>\n",
       "      <th></th>\n",
       "      <th></th>\n",
       "      <th></th>\n",
       "      <th></th>\n",
       "    </tr>\n",
       "  </thead>\n",
       "  <tbody>\n",
       "    <tr>\n",
       "      <th>Interventional</th>\n",
       "      <td>511</td>\n",
       "      <td>511</td>\n",
       "      <td>175</td>\n",
       "      <td>511</td>\n",
       "      <td>511</td>\n",
       "      <td>511</td>\n",
       "      <td>511</td>\n",
       "      <td>511</td>\n",
       "      <td>511</td>\n",
       "      <td>511</td>\n",
       "      <td>511</td>\n",
       "      <td>511</td>\n",
       "    </tr>\n",
       "    <tr>\n",
       "      <th>Observational</th>\n",
       "      <td>612</td>\n",
       "      <td>612</td>\n",
       "      <td>223</td>\n",
       "      <td>612</td>\n",
       "      <td>612</td>\n",
       "      <td>612</td>\n",
       "      <td>421</td>\n",
       "      <td>605</td>\n",
       "      <td>612</td>\n",
       "      <td>0</td>\n",
       "      <td>612</td>\n",
       "      <td>612</td>\n",
       "    </tr>\n",
       "  </tbody>\n",
       "</table>\n",
       "</div>"
      ],
      "text/plain": [
       "                NCT Number  Title  Acronym  Status  Study Results  Conditions  \\\n",
       "Study Type                                                                      \n",
       "Interventional         511    511      175     511            511         511   \n",
       "Observational          612    612      223     612            612         612   \n",
       "\n",
       "                Interventions  Gender  Age  Phases  Enrollment  URL  \n",
       "Study Type                                                           \n",
       "Interventional            511     511  511     511         511  511  \n",
       "Observational             421     605  612       0         612  612  "
      ]
     },
     "execution_count": 46,
     "metadata": {},
     "output_type": "execute_result"
    }
   ],
   "source": [
    "#generate pie chart\n",
    "\n",
    "# Generate a pie plot showing the distribution of female versus male mice using Pandas\n",
    "#visualiza study type\n",
    "\n",
    "bystudytype = covid_df.groupby(\"Study Type\").count()\n",
    "bystudytype"
   ]
  },
  {
   "cell_type": "code",
   "execution_count": 47,
   "metadata": {},
   "outputs": [
    {
     "data": {
      "text/plain": [
       "['Interventional', 'Observational']"
      ]
     },
     "execution_count": 47,
     "metadata": {},
     "output_type": "execute_result"
    }
   ],
   "source": [
    "labels = [covid_df['Study Type'].unique()]\n",
    "newrecord = list(bystudytype.index)\n",
    "newrecord"
   ]
  },
  {
   "cell_type": "code",
   "execution_count": 48,
   "metadata": {},
   "outputs": [
    {
     "data": {
      "text/plain": [
       "[Study Type\n",
       " Interventional    511\n",
       " Observational     612\n",
       " Name: NCT Number, dtype: int64]"
      ]
     },
     "execution_count": 48,
     "metadata": {},
     "output_type": "execute_result"
    }
   ],
   "source": [
    "sizes = [bystudytype[\"NCT Number\"]]\n",
    "sizes"
   ]
  },
  {
   "cell_type": "code",
   "execution_count": 50,
   "metadata": {},
   "outputs": [
    {
     "data": {
      "text/html": [
       "<div>\n",
       "<style scoped>\n",
       "    .dataframe tbody tr th:only-of-type {\n",
       "        vertical-align: middle;\n",
       "    }\n",
       "\n",
       "    .dataframe tbody tr th {\n",
       "        vertical-align: top;\n",
       "    }\n",
       "\n",
       "    .dataframe thead th {\n",
       "        text-align: right;\n",
       "    }\n",
       "</style>\n",
       "<table border=\"1\" class=\"dataframe\">\n",
       "  <thead>\n",
       "    <tr style=\"text-align: right;\">\n",
       "      <th></th>\n",
       "      <th>Study Type</th>\n",
       "      <th>NCT Number</th>\n",
       "      <th>Title</th>\n",
       "      <th>Acronym</th>\n",
       "      <th>Status</th>\n",
       "      <th>Study Results</th>\n",
       "      <th>Conditions</th>\n",
       "      <th>Interventions</th>\n",
       "      <th>Gender</th>\n",
       "      <th>Age</th>\n",
       "      <th>Phases</th>\n",
       "      <th>Enrollment</th>\n",
       "      <th>URL</th>\n",
       "    </tr>\n",
       "  </thead>\n",
       "  <tbody>\n",
       "    <tr>\n",
       "      <th>0</th>\n",
       "      <td>Interventional</td>\n",
       "      <td>511</td>\n",
       "      <td>511</td>\n",
       "      <td>175</td>\n",
       "      <td>511</td>\n",
       "      <td>511</td>\n",
       "      <td>511</td>\n",
       "      <td>511</td>\n",
       "      <td>511</td>\n",
       "      <td>511</td>\n",
       "      <td>511</td>\n",
       "      <td>511</td>\n",
       "      <td>511</td>\n",
       "    </tr>\n",
       "    <tr>\n",
       "      <th>1</th>\n",
       "      <td>Observational</td>\n",
       "      <td>612</td>\n",
       "      <td>612</td>\n",
       "      <td>223</td>\n",
       "      <td>612</td>\n",
       "      <td>612</td>\n",
       "      <td>612</td>\n",
       "      <td>421</td>\n",
       "      <td>605</td>\n",
       "      <td>612</td>\n",
       "      <td>0</td>\n",
       "      <td>612</td>\n",
       "      <td>612</td>\n",
       "    </tr>\n",
       "  </tbody>\n",
       "</table>\n",
       "</div>"
      ],
      "text/plain": [
       "       Study Type  NCT Number  Title  Acronym  Status  Study Results  \\\n",
       "0  Interventional         511    511      175     511            511   \n",
       "1   Observational         612    612      223     612            612   \n",
       "\n",
       "   Conditions  Interventions  Gender  Age  Phases  Enrollment  URL  \n",
       "0         511            511     511  511     511         511  511  \n",
       "1         612            421     605  612       0         612  612  "
      ]
     },
     "execution_count": 50,
     "metadata": {},
     "output_type": "execute_result"
    }
   ],
   "source": [
    "study_type_df = pd.DataFrame(covid_df.groupby([\"Study Type\"]).count()).reset_index()\n",
    "study_type_df.head()"
   ]
  },
  {
   "cell_type": "code",
   "execution_count": 51,
   "metadata": {},
   "outputs": [
    {
     "data": {
      "text/html": [
       "<div>\n",
       "<style scoped>\n",
       "    .dataframe tbody tr th:only-of-type {\n",
       "        vertical-align: middle;\n",
       "    }\n",
       "\n",
       "    .dataframe tbody tr th {\n",
       "        vertical-align: top;\n",
       "    }\n",
       "\n",
       "    .dataframe thead th {\n",
       "        text-align: right;\n",
       "    }\n",
       "</style>\n",
       "<table border=\"1\" class=\"dataframe\">\n",
       "  <thead>\n",
       "    <tr style=\"text-align: right;\">\n",
       "      <th></th>\n",
       "      <th>Study Type</th>\n",
       "      <th>NCT Number</th>\n",
       "    </tr>\n",
       "  </thead>\n",
       "  <tbody>\n",
       "    <tr>\n",
       "      <th>0</th>\n",
       "      <td>Interventional</td>\n",
       "      <td>511</td>\n",
       "    </tr>\n",
       "    <tr>\n",
       "      <th>1</th>\n",
       "      <td>Observational</td>\n",
       "      <td>612</td>\n",
       "    </tr>\n",
       "  </tbody>\n",
       "</table>\n",
       "</div>"
      ],
      "text/plain": [
       "       Study Type  NCT Number\n",
       "0  Interventional         511\n",
       "1   Observational         612"
      ]
     },
     "execution_count": 51,
     "metadata": {},
     "output_type": "execute_result"
    }
   ],
   "source": [
    "#Adjust  dataframe down to two columns\n",
    "study_type_df = study_type_df[[\"Study Type\",\"NCT Number\"]]\n",
    "study_type_df.head()"
   ]
  },
  {
   "cell_type": "code",
   "execution_count": 52,
   "metadata": {},
   "outputs": [
    {
     "data": {
      "text/plain": [
       "Text(0, 0.5, '')"
      ]
     },
     "execution_count": 52,
     "metadata": {},
     "output_type": "execute_result"
    },
    {
     "data": {
      "image/png": "[encoded data removed]",
      "text/plain": [
       "<Figure size 720x504 with 1 Axes>"
      ]
     },
     "metadata": {},
     "output_type": "display_data"
    }
   ],
   "source": [
    "# Generate a pie plot showing the study types using pandas\n",
    "plt.figure(figsize=(10,7))\n",
    "ax1 = plt.subplot(121, aspect=\"equal\")\n",
    "study_type_df.plot(kind=\"pie\", y = \"NCT Number\", ax=ax1, autopct='%1.1f%%',\n",
    "              startangle=190, shadow=True, labels=study_type_df[\"Study Type\"], legend = False, fontsize=12)\n",
    "\n",
    "plt.title(\"interventional VS observational Studies\")\n",
    "plt.xlabel(\"\")\n",
    "plt.ylabel(\"\")"
   ]
  },
  {
   "cell_type": "code",
   "execution_count": null,
   "metadata": {},
   "outputs": [],
   "source": []
  },
  {
   "cell_type": "code",
   "execution_count": null,
   "metadata": {},
   "outputs": [],
   "source": []
  },
  {
   "cell_type": "code",
   "execution_count": null,
   "metadata": {},
   "outputs": [],
   "source": []
  },
  {
   "cell_type": "code",
   "execution_count": null,
   "metadata": {},
   "outputs": [],
   "source": []
  },
  {
   "cell_type": "code",
   "execution_count": null,
   "metadata": {},
   "outputs": [],
   "source": []
  },
  {
   "cell_type": "code",
   "execution_count": null,
   "metadata": {},
   "outputs": [],
   "source": []
  },
  {
   "cell_type": "code",
   "execution_count": null,
   "metadata": {},
   "outputs": [],
   "source": []
  },
  {
   "cell_type": "code",
   "execution_count": 153,
   "metadata": {},
   "outputs": [],
   "source": []
  },
  {
   "cell_type": "code",
   "execution_count": 159,
   "metadata": {},
   "outputs": [],
   "source": []
  },
  {
   "cell_type": "code",
   "execution_count": null,
   "metadata": {},
   "outputs": [],
   "source": []
  },
  {
   "cell_type": "code",
   "execution_count": null,
   "metadata": {},
   "outputs": [],
   "source": []
  }
 ],
 "metadata": {
  "kernelspec": {
   "display_name": "Python 3",
   "language": "python",
   "name": "python3"
  },
  "language_info": {
   "codemirror_mode": {
    "name": "ipython",
    "version": 3
   },
   "file_extension": ".py",
   "mimetype": "text/x-python",
   "name": "python",
   "nbconvert_exporter": "python",
   "pygments_lexer": "ipython3",
   "version": "3.8.5"
  }
 },
 "nbformat": 4,
 "nbformat_minor": 4
}
