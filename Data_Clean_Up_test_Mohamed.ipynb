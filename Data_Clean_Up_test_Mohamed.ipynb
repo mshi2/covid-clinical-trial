{
 "cells": [
  {
   "cell_type": "code",
   "execution_count": 1,
   "metadata": {},
   "outputs": [
    {
     "data": {
      "text/html": [
       "<div>\n",
       "<style scoped>\n",
       "    .dataframe tbody tr th:only-of-type {\n",
       "        vertical-align: middle;\n",
       "    }\n",
       "\n",
       "    .dataframe tbody tr th {\n",
       "        vertical-align: top;\n",
       "    }\n",
       "\n",
       "    .dataframe thead th {\n",
       "        text-align: right;\n",
       "    }\n",
       "</style>\n",
       "<table border=\"1\" class=\"dataframe\">\n",
       "  <thead>\n",
       "    <tr style=\"text-align: right;\">\n",
       "      <th></th>\n",
       "      <th>NCT Number</th>\n",
       "      <th>Title</th>\n",
       "      <th>Acronym</th>\n",
       "      <th>Status</th>\n",
       "      <th>Study Results</th>\n",
       "      <th>Conditions</th>\n",
       "      <th>Interventions</th>\n",
       "      <th>Gender</th>\n",
       "      <th>Age</th>\n",
       "      <th>Phases</th>\n",
       "      <th>Enrollment</th>\n",
       "      <th>Study Type</th>\n",
       "      <th>URL</th>\n",
       "    </tr>\n",
       "  </thead>\n",
       "  <tbody>\n",
       "    <tr>\n",
       "      <th>0</th>\n",
       "      <td>NCT04425538</td>\n",
       "      <td>A Phase 2 Trial of Infliximab in Coronavirus D...</td>\n",
       "      <td>NaN</td>\n",
       "      <td>Completed</td>\n",
       "      <td>No Results Available</td>\n",
       "      <td>COVID-19</td>\n",
       "      <td>Drug: Infliximab</td>\n",
       "      <td>All</td>\n",
       "      <td>18 Years and older   (Adult, Older Adult)</td>\n",
       "      <td>Phase 2</td>\n",
       "      <td>17</td>\n",
       "      <td>Interventional</td>\n",
       "      <td>https://ClinicalTrials.gov/show/NCT04425538</td>\n",
       "    </tr>\n",
       "    <tr>\n",
       "      <th>1</th>\n",
       "      <td>NCT04452435</td>\n",
       "      <td>Safety and Efficacy of C21 in Subjects With CO...</td>\n",
       "      <td>NaN</td>\n",
       "      <td>Completed</td>\n",
       "      <td>Has Results</td>\n",
       "      <td>COVID-19</td>\n",
       "      <td>Drug: C21|Drug: Placebo</td>\n",
       "      <td>All</td>\n",
       "      <td>18 Years to 70 Years   (Adult, Older Adult)</td>\n",
       "      <td>Phase 2</td>\n",
       "      <td>206</td>\n",
       "      <td>Interventional</td>\n",
       "      <td>https://ClinicalTrials.gov/show/NCT04452435</td>\n",
       "    </tr>\n",
       "    <tr>\n",
       "      <th>2</th>\n",
       "      <td>NCT04445272</td>\n",
       "      <td>Clinical Trial to Evaluate the Effectiveness a...</td>\n",
       "      <td>NaN</td>\n",
       "      <td>Completed</td>\n",
       "      <td>No Results Available</td>\n",
       "      <td>COVID-19</td>\n",
       "      <td>Drug: Tocilizumab</td>\n",
       "      <td>All</td>\n",
       "      <td>18 Years and older   (Adult, Older Adult)</td>\n",
       "      <td>Phase 2</td>\n",
       "      <td>495</td>\n",
       "      <td>Interventional</td>\n",
       "      <td>https://ClinicalTrials.gov/show/NCT04445272</td>\n",
       "    </tr>\n",
       "    <tr>\n",
       "      <th>3</th>\n",
       "      <td>NCT04355741</td>\n",
       "      <td>Gut Microbiota, \"Spark and Flame\" of COVID-19 ...</td>\n",
       "      <td>NaN</td>\n",
       "      <td>Completed</td>\n",
       "      <td>No Results Available</td>\n",
       "      <td>COVID-19</td>\n",
       "      <td>Other: Exposure</td>\n",
       "      <td>All</td>\n",
       "      <td>18 Years and older   (Adult, Older Adult)</td>\n",
       "      <td>NaN</td>\n",
       "      <td>115</td>\n",
       "      <td>Observational</td>\n",
       "      <td>https://ClinicalTrials.gov/show/NCT04355741</td>\n",
       "    </tr>\n",
       "    <tr>\n",
       "      <th>4</th>\n",
       "      <td>NCT04578158</td>\n",
       "      <td>Trial to Study the Adjuvant Benefits of Querce...</td>\n",
       "      <td>NaN</td>\n",
       "      <td>Completed</td>\n",
       "      <td>No Results Available</td>\n",
       "      <td>COVID-19</td>\n",
       "      <td>Drug: Standard COVID-19 care|Dietary Supplemen...</td>\n",
       "      <td>All</td>\n",
       "      <td>18 Years and older   (Adult, Older Adult)</td>\n",
       "      <td>Phase 3</td>\n",
       "      <td>152</td>\n",
       "      <td>Interventional</td>\n",
       "      <td>https://ClinicalTrials.gov/show/NCT04578158</td>\n",
       "    </tr>\n",
       "  </tbody>\n",
       "</table>\n",
       "</div>"
      ],
      "text/plain": [
       "    NCT Number                                              Title Acronym  \\\n",
       "0  NCT04425538  A Phase 2 Trial of Infliximab in Coronavirus D...     NaN   \n",
       "1  NCT04452435  Safety and Efficacy of C21 in Subjects With CO...     NaN   \n",
       "2  NCT04445272  Clinical Trial to Evaluate the Effectiveness a...     NaN   \n",
       "3  NCT04355741  Gut Microbiota, \"Spark and Flame\" of COVID-19 ...     NaN   \n",
       "4  NCT04578158  Trial to Study the Adjuvant Benefits of Querce...     NaN   \n",
       "\n",
       "      Status         Study Results Conditions  \\\n",
       "0  Completed  No Results Available   COVID-19   \n",
       "1  Completed           Has Results   COVID-19   \n",
       "2  Completed  No Results Available   COVID-19   \n",
       "3  Completed  No Results Available   COVID-19   \n",
       "4  Completed  No Results Available   COVID-19   \n",
       "\n",
       "                                       Interventions Gender  \\\n",
       "0                                   Drug: Infliximab    All   \n",
       "1                            Drug: C21|Drug: Placebo    All   \n",
       "2                                  Drug: Tocilizumab    All   \n",
       "3                                    Other: Exposure    All   \n",
       "4  Drug: Standard COVID-19 care|Dietary Supplemen...    All   \n",
       "\n",
       "                                           Age   Phases  Enrollment  \\\n",
       "0    18 Years and older   (Adult, Older Adult)  Phase 2          17   \n",
       "1  18 Years to 70 Years   (Adult, Older Adult)  Phase 2         206   \n",
       "2    18 Years and older   (Adult, Older Adult)  Phase 2         495   \n",
       "3    18 Years and older   (Adult, Older Adult)      NaN         115   \n",
       "4    18 Years and older   (Adult, Older Adult)  Phase 3         152   \n",
       "\n",
       "       Study Type                                          URL  \n",
       "0  Interventional  https://ClinicalTrials.gov/show/NCT04425538  \n",
       "1  Interventional  https://ClinicalTrials.gov/show/NCT04452435  \n",
       "2  Interventional  https://ClinicalTrials.gov/show/NCT04445272  \n",
       "3   Observational  https://ClinicalTrials.gov/show/NCT04355741  \n",
       "4  Interventional  https://ClinicalTrials.gov/show/NCT04578158  "
      ]
     },
     "execution_count": 1,
     "metadata": {},
     "output_type": "execute_result"
    }
   ],
   "source": [
    "import matplotlib.pyplot as plt\n",
    "import pandas as pd\n",
    "\n",
    "# File to Load (Remember to Change These)\n",
    "covid = \"covid-clinical-trial_data_cleandata.csv\"\n",
    "\n",
    "# Read Purchasing File and store into Pandas data frame\n",
    "covid_df = pd.read_csv(covid)\n",
    "covid_df.head()"
   ]
  },
  {
   "cell_type": "code",
   "execution_count": 6,
   "metadata": {},
   "outputs": [
    {
     "data": {
      "text/html": [
       "<div>\n",
       "<style scoped>\n",
       "    .dataframe tbody tr th:only-of-type {\n",
       "        vertical-align: middle;\n",
       "    }\n",
       "\n",
       "    .dataframe tbody tr th {\n",
       "        vertical-align: top;\n",
       "    }\n",
       "\n",
       "    .dataframe thead th {\n",
       "        text-align: right;\n",
       "    }\n",
       "</style>\n",
       "<table border=\"1\" class=\"dataframe\">\n",
       "  <thead>\n",
       "    <tr style=\"text-align: right;\">\n",
       "      <th></th>\n",
       "      <th>NCT Number</th>\n",
       "      <th>Status</th>\n",
       "      <th>Study Results</th>\n",
       "      <th>Interventions</th>\n",
       "      <th>Phases</th>\n",
       "      <th>Enrollment</th>\n",
       "      <th>Study Type</th>\n",
       "    </tr>\n",
       "  </thead>\n",
       "  <tbody>\n",
       "    <tr>\n",
       "      <th>0</th>\n",
       "      <td>NCT04425538</td>\n",
       "      <td>Completed</td>\n",
       "      <td>No Results Available</td>\n",
       "      <td>Drug: Infliximab</td>\n",
       "      <td>Phase 2</td>\n",
       "      <td>17</td>\n",
       "      <td>Interventional</td>\n",
       "    </tr>\n",
       "    <tr>\n",
       "      <th>1</th>\n",
       "      <td>NCT04452435</td>\n",
       "      <td>Completed</td>\n",
       "      <td>Has Results</td>\n",
       "      <td>Drug: C21|Drug: Placebo</td>\n",
       "      <td>Phase 2</td>\n",
       "      <td>206</td>\n",
       "      <td>Interventional</td>\n",
       "    </tr>\n",
       "    <tr>\n",
       "      <th>2</th>\n",
       "      <td>NCT04445272</td>\n",
       "      <td>Completed</td>\n",
       "      <td>No Results Available</td>\n",
       "      <td>Drug: Tocilizumab</td>\n",
       "      <td>Phase 2</td>\n",
       "      <td>495</td>\n",
       "      <td>Interventional</td>\n",
       "    </tr>\n",
       "    <tr>\n",
       "      <th>3</th>\n",
       "      <td>NCT04355741</td>\n",
       "      <td>Completed</td>\n",
       "      <td>No Results Available</td>\n",
       "      <td>Other: Exposure</td>\n",
       "      <td>NaN</td>\n",
       "      <td>115</td>\n",
       "      <td>Observational</td>\n",
       "    </tr>\n",
       "    <tr>\n",
       "      <th>4</th>\n",
       "      <td>NCT04578158</td>\n",
       "      <td>Completed</td>\n",
       "      <td>No Results Available</td>\n",
       "      <td>Drug: Standard COVID-19 care|Dietary Supplemen...</td>\n",
       "      <td>Phase 3</td>\n",
       "      <td>152</td>\n",
       "      <td>Interventional</td>\n",
       "    </tr>\n",
       "  </tbody>\n",
       "</table>\n",
       "</div>"
      ],
      "text/plain": [
       "    NCT Number     Status         Study Results  \\\n",
       "0  NCT04425538  Completed  No Results Available   \n",
       "1  NCT04452435  Completed           Has Results   \n",
       "2  NCT04445272  Completed  No Results Available   \n",
       "3  NCT04355741  Completed  No Results Available   \n",
       "4  NCT04578158  Completed  No Results Available   \n",
       "\n",
       "                                       Interventions   Phases  Enrollment  \\\n",
       "0                                   Drug: Infliximab  Phase 2          17   \n",
       "1                            Drug: C21|Drug: Placebo  Phase 2         206   \n",
       "2                                  Drug: Tocilizumab  Phase 2         495   \n",
       "3                                    Other: Exposure      NaN         115   \n",
       "4  Drug: Standard COVID-19 care|Dietary Supplemen...  Phase 3         152   \n",
       "\n",
       "       Study Type  \n",
       "0  Interventional  \n",
       "1  Interventional  \n",
       "2  Interventional  \n",
       "3   Observational  \n",
       "4  Interventional  "
      ]
     },
     "execution_count": 6,
     "metadata": {},
     "output_type": "execute_result"
    }
   ],
   "source": [
    "# Remove unecessary columns from the DataFrame and save the new DataFrame\n",
    "# Only keep: NCT Number\", \"Status\", \"Study Results\", \"Interventions\",\n",
    "                       \"Phases\", \"Enrollment\", \"Study Type\"\"\n",
    "reduced_df = covid_df[[\"NCT Number\", \"Status\", \"Study Results\", \"Interventions\",\n",
    "                       \"Phases\", \"Enrollment\", \"Study Type\"]]\n",
    "reduced_df.head()"
   ]
  },
  {
   "cell_type": "code",
   "execution_count": 9,
   "metadata": {},
   "outputs": [
    {
     "data": {
      "text/plain": [
       "NCT Number       1123\n",
       "Title            1123\n",
       "Acronym           398\n",
       "Status           1123\n",
       "Study Results    1123\n",
       "Conditions       1123\n",
       "Interventions     932\n",
       "Gender           1116\n",
       "Age              1123\n",
       "Phases            511\n",
       "Enrollment       1123\n",
       "Study Type       1123\n",
       "URL              1123\n",
       "dtype: int64"
      ]
     },
     "execution_count": 9,
     "metadata": {},
     "output_type": "execute_result"
    }
   ],
   "source": [
    "# Identify incomplete rows\n",
    "covid_df.count()"
   ]
  },
  {
   "cell_type": "code",
   "execution_count": 11,
   "metadata": {},
   "outputs": [],
   "source": [
    "# Drop all rows with missing information\n",
    "covid_df = covid_df.dropna(how='any')"
   ]
  },
  {
   "cell_type": "code",
   "execution_count": 13,
   "metadata": {},
   "outputs": [
    {
     "data": {
      "text/plain": [
       "NCT Number       175\n",
       "Title            175\n",
       "Acronym          175\n",
       "Status           175\n",
       "Study Results    175\n",
       "Conditions       175\n",
       "Interventions    175\n",
       "Gender           175\n",
       "Age              175\n",
       "Phases           175\n",
       "Enrollment       175\n",
       "Study Type       175\n",
       "URL              175\n",
       "dtype: int64"
      ]
     },
     "execution_count": 13,
     "metadata": {},
     "output_type": "execute_result"
    }
   ],
   "source": [
    "# Verify dropped rows\n",
    "covid_df.count()"
   ]
  },
  {
   "cell_type": "code",
   "execution_count": 15,
   "metadata": {},
   "outputs": [
    {
     "data": {
      "text/plain": [
       "NCT Number       object\n",
       "Title            object\n",
       "Acronym          object\n",
       "Status           object\n",
       "Study Results    object\n",
       "Conditions       object\n",
       "Interventions    object\n",
       "Gender           object\n",
       "Age              object\n",
       "Phases           object\n",
       "Enrollment        int64\n",
       "Study Type       object\n",
       "URL              object\n",
       "dtype: object"
      ]
     },
     "execution_count": 15,
     "metadata": {},
     "output_type": "execute_result"
    }
   ],
   "source": [
    "# The Amount column is the wrong data type. It should be numeric.\n",
    "covid_df.dtypes"
   ]
  },
  {
   "cell_type": "code",
   "execution_count": 16,
   "metadata": {},
   "outputs": [
    {
     "data": {
      "text/plain": [
       "Not Applicable    69\n",
       "Phase 2           52\n",
       "Phase 3           37\n",
       "Phase 1            9\n",
       "Phase 4            8\n",
       "Name: Phases, dtype: int64"
      ]
     },
     "execution_count": 16,
     "metadata": {},
     "output_type": "execute_result"
    }
   ],
   "source": [
    "# Display an overview of the Phases column\n",
    "covid_df['Phases'].value_counts()"
   ]
  },
  {
   "cell_type": "code",
   "execution_count": 17,
   "metadata": {},
   "outputs": [
    {
     "data": {
      "text/plain": [
       "Not Applicable    69\n",
       "Phase 2           52\n",
       "Phase 3           37\n",
       "Phase 1            9\n",
       "Phase 4            8\n",
       "Name: Phases, dtype: int64"
      ]
     },
     "execution_count": 17,
     "metadata": {},
     "output_type": "execute_result"
    }
   ],
   "source": [
    "# Verify clean-up.\n",
    "covid_df['Phases'].value_counts()"
   ]
  },
  {
   "cell_type": "code",
   "execution_count": 18,
   "metadata": {},
   "outputs": [
    {
     "data": {
      "text/html": [
       "<div>\n",
       "<style scoped>\n",
       "    .dataframe tbody tr th:only-of-type {\n",
       "        vertical-align: middle;\n",
       "    }\n",
       "\n",
       "    .dataframe tbody tr th {\n",
       "        vertical-align: top;\n",
       "    }\n",
       "\n",
       "    .dataframe thead th {\n",
       "        text-align: right;\n",
       "    }\n",
       "</style>\n",
       "<table border=\"1\" class=\"dataframe\">\n",
       "  <thead>\n",
       "    <tr style=\"text-align: right;\">\n",
       "      <th></th>\n",
       "      <th>Enrollment</th>\n",
       "    </tr>\n",
       "  </thead>\n",
       "  <tbody>\n",
       "    <tr>\n",
       "      <th>count</th>\n",
       "      <td>175.000000</td>\n",
       "    </tr>\n",
       "    <tr>\n",
       "      <th>mean</th>\n",
       "      <td>531.017143</td>\n",
       "    </tr>\n",
       "    <tr>\n",
       "      <th>std</th>\n",
       "      <td>2011.402794</td>\n",
       "    </tr>\n",
       "    <tr>\n",
       "      <th>min</th>\n",
       "      <td>2.000000</td>\n",
       "    </tr>\n",
       "    <tr>\n",
       "      <th>25%</th>\n",
       "      <td>36.000000</td>\n",
       "    </tr>\n",
       "    <tr>\n",
       "      <th>50%</th>\n",
       "      <td>120.000000</td>\n",
       "    </tr>\n",
       "    <tr>\n",
       "      <th>75%</th>\n",
       "      <td>300.000000</td>\n",
       "    </tr>\n",
       "    <tr>\n",
       "      <th>max</th>\n",
       "      <td>22000.000000</td>\n",
       "    </tr>\n",
       "  </tbody>\n",
       "</table>\n",
       "</div>"
      ],
      "text/plain": [
       "         Enrollment\n",
       "count    175.000000\n",
       "mean     531.017143\n",
       "std     2011.402794\n",
       "min        2.000000\n",
       "25%       36.000000\n",
       "50%      120.000000\n",
       "75%      300.000000\n",
       "max    22000.000000"
      ]
     },
     "execution_count": 18,
     "metadata": {},
     "output_type": "execute_result"
    }
   ],
   "source": [
    "# Display a statistical overview\n",
    "# We can infer the maximum allowable individual contribution from 'max'\n",
    "#covid_df.describe()"
   ]
  },
  {
   "cell_type": "code",
   "execution_count": 20,
   "metadata": {},
   "outputs": [
    {
     "data": {
      "text/html": [
       "<div>\n",
       "<style scoped>\n",
       "    .dataframe tbody tr th:only-of-type {\n",
       "        vertical-align: middle;\n",
       "    }\n",
       "\n",
       "    .dataframe tbody tr th {\n",
       "        vertical-align: top;\n",
       "    }\n",
       "\n",
       "    .dataframe thead th {\n",
       "        text-align: right;\n",
       "    }\n",
       "</style>\n",
       "<table border=\"1\" class=\"dataframe\">\n",
       "  <thead>\n",
       "    <tr style=\"text-align: right;\">\n",
       "      <th></th>\n",
       "      <th>all phases</th>\n",
       "    </tr>\n",
       "  </thead>\n",
       "  <tbody>\n",
       "    <tr>\n",
       "      <th>0</th>\n",
       "      <td>5</td>\n",
       "    </tr>\n",
       "  </tbody>\n",
       "</table>\n",
       "</div>"
      ],
      "text/plain": [
       "   all phases\n",
       "0           5"
      ]
     },
     "execution_count": 20,
     "metadata": {},
     "output_type": "execute_result"
    }
   ],
   "source": [
    "#Arrange variable\n",
    "phases= len(covid_df['Phases'].unique())\n",
    "\n",
    "#set in DF\n",
    "phases_df = pd.DataFrame({\"all phases\": [len(covid_df.Phases.unique())]})\n",
    "phases_df"
   ]
  },
  {
   "cell_type": "code",
   "execution_count": 22,
   "metadata": {},
   "outputs": [
    {
     "data": {
      "image/png": "[encoded data removed]",
      "text/plain": [
       "<Figure size 432x288 with 1 Axes>"
      ]
     },
     "metadata": {
      "needs_background": "light"
     },
     "output_type": "display_data"
    }
   ],
   "source": [
    "# Generate a bar plot showing the total number of Enrollment for all samples n using Pandas.\n",
    "data_points = covid_df.groupby('Phases').count()['Enrollment']\n",
    "panda_bar = pd.DataFrame(data_points)\n",
    "#plot bar\n",
    "also = panda_bar.plot.bar(legend=False,rot=60)\n",
    "also\n",
    "plt.ylabel(\"Number of Studies\")\n",
    "plt.title(\"Phase per study\")\n",
    "plt.savefig('barplot1')"
   ]
  },
  {
   "cell_type": "code",
   "execution_count": 23,
   "metadata": {},
   "outputs": [
    {
     "data": {
      "text/html": [
       "<div>\n",
       "<style scoped>\n",
       "    .dataframe tbody tr th:only-of-type {\n",
       "        vertical-align: middle;\n",
       "    }\n",
       "\n",
       "    .dataframe tbody tr th {\n",
       "        vertical-align: top;\n",
       "    }\n",
       "\n",
       "    .dataframe thead th {\n",
       "        text-align: right;\n",
       "    }\n",
       "</style>\n",
       "<table border=\"1\" class=\"dataframe\">\n",
       "  <thead>\n",
       "    <tr style=\"text-align: right;\">\n",
       "      <th></th>\n",
       "      <th>Enrollment</th>\n",
       "    </tr>\n",
       "    <tr>\n",
       "      <th>Phases</th>\n",
       "      <th></th>\n",
       "    </tr>\n",
       "  </thead>\n",
       "  <tbody>\n",
       "    <tr>\n",
       "      <th>Not Applicable</th>\n",
       "      <td>69</td>\n",
       "    </tr>\n",
       "    <tr>\n",
       "      <th>Phase 1</th>\n",
       "      <td>9</td>\n",
       "    </tr>\n",
       "    <tr>\n",
       "      <th>Phase 2</th>\n",
       "      <td>52</td>\n",
       "    </tr>\n",
       "    <tr>\n",
       "      <th>Phase 3</th>\n",
       "      <td>37</td>\n",
       "    </tr>\n",
       "    <tr>\n",
       "      <th>Phase 4</th>\n",
       "      <td>8</td>\n",
       "    </tr>\n",
       "  </tbody>\n",
       "</table>\n",
       "</div>"
      ],
      "text/plain": [
       "                Enrollment\n",
       "Phases                    \n",
       "Not Applicable          69\n",
       "Phase 1                  9\n",
       "Phase 2                 52\n",
       "Phase 3                 37\n",
       "Phase 4                  8"
      ]
     },
     "execution_count": 23,
     "metadata": {},
     "output_type": "execute_result"
    }
   ],
   "source": [
    "panda_bar.head()"
   ]
  },
  {
   "cell_type": "code",
   "execution_count": 24,
   "metadata": {},
   "outputs": [
    {
     "data": {
      "text/html": [
       "<div>\n",
       "<style scoped>\n",
       "    .dataframe tbody tr th:only-of-type {\n",
       "        vertical-align: middle;\n",
       "    }\n",
       "\n",
       "    .dataframe tbody tr th {\n",
       "        vertical-align: top;\n",
       "    }\n",
       "\n",
       "    .dataframe thead th {\n",
       "        text-align: right;\n",
       "    }\n",
       "</style>\n",
       "<table border=\"1\" class=\"dataframe\">\n",
       "  <thead>\n",
       "    <tr style=\"text-align: right;\">\n",
       "      <th></th>\n",
       "      <th>NCT Number</th>\n",
       "      <th>Title</th>\n",
       "      <th>Acronym</th>\n",
       "      <th>Status</th>\n",
       "      <th>Study Results</th>\n",
       "      <th>Conditions</th>\n",
       "      <th>Interventions</th>\n",
       "      <th>Gender</th>\n",
       "      <th>Age</th>\n",
       "      <th>Phases</th>\n",
       "      <th>Enrollment</th>\n",
       "      <th>URL</th>\n",
       "    </tr>\n",
       "    <tr>\n",
       "      <th>Study Type</th>\n",
       "      <th></th>\n",
       "      <th></th>\n",
       "      <th></th>\n",
       "      <th></th>\n",
       "      <th></th>\n",
       "      <th></th>\n",
       "      <th></th>\n",
       "      <th></th>\n",
       "      <th></th>\n",
       "      <th></th>\n",
       "      <th></th>\n",
       "      <th></th>\n",
       "    </tr>\n",
       "  </thead>\n",
       "  <tbody>\n",
       "    <tr>\n",
       "      <th>Interventional</th>\n",
       "      <td>175</td>\n",
       "      <td>175</td>\n",
       "      <td>175</td>\n",
       "      <td>175</td>\n",
       "      <td>175</td>\n",
       "      <td>175</td>\n",
       "      <td>175</td>\n",
       "      <td>175</td>\n",
       "      <td>175</td>\n",
       "      <td>175</td>\n",
       "      <td>175</td>\n",
       "      <td>175</td>\n",
       "    </tr>\n",
       "  </tbody>\n",
       "</table>\n",
       "</div>"
      ],
      "text/plain": [
       "                NCT Number  Title  Acronym  Status  Study Results  Conditions  \\\n",
       "Study Type                                                                      \n",
       "Interventional         175    175      175     175            175         175   \n",
       "\n",
       "                Interventions  Gender  Age  Phases  Enrollment  URL  \n",
       "Study Type                                                           \n",
       "Interventional            175     175  175     175         175  175  "
      ]
     },
     "execution_count": 24,
     "metadata": {},
     "output_type": "execute_result"
    }
   ],
   "source": [
    "#generate pie chart\n",
    "\n",
    "# Generate a pie plot showing the distribution of studies type using Pandas\n",
    "#visualiza study type\n",
    "\n",
    "bystudytype = covid_df.groupby(\"Study Type\").count()\n",
    "bystudytype"
   ]
  },
  {
   "cell_type": "code",
   "execution_count": null,
   "metadata": {},
   "outputs": [],
   "source": []
  }
 ],
 "metadata": {
  "kernelspec": {
   "display_name": "Python 3",
   "language": "python",
   "name": "python3"
  },
  "language_info": {
   "codemirror_mode": {
    "name": "ipython",
    "version": 3
   },
   "file_extension": ".py",
   "mimetype": "text/x-python",
   "name": "python",
   "nbconvert_exporter": "python",
   "pygments_lexer": "ipython3",
   "version": "3.8.5"
  }
 },
 "nbformat": 4,
 "nbformat_minor": 4
}
